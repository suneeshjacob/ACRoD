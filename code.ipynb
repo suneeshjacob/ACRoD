{
 "cells": [
  {
   "cell_type": "code",
   "execution_count": 4,
   "id": "d0390cc0",
   "metadata": {},
   "outputs": [],
   "source": [
    "import sympy"
   ]
  },
  {
   "cell_type": "code",
   "execution_count": 76,
   "id": "ddbb6a95",
   "metadata": {},
   "outputs": [],
   "source": [
    "def Rz(theta): \n",
    "    return sympy.Matrix([[sympy.cos(theta), -sympy.sin(theta), 0],[sympy.sin(theta), sympy.cos(theta), 0], [0, 0, 1]])\n",
    "\n",
    "def Rx(theta): \n",
    "    return sympy.Matrix([[1, 0, 0],[0, sympy.cos(theta), -sympy.sin(theta)],[0, sympy.sin(theta), sympy.cos(theta)]])\n",
    "\n",
    "def Tf(R = sympy.eye(3), p = [0,0,0], scale = [0,0,0,1]): \n",
    "    return sympy.Matrix.vstack(sympy.Matrix.hstack(R,sympy.Matrix(p)), sympy.Matrix(scale).T)\n",
    "\n",
    "def Tm(DH, modified = False):\n",
    "    alpha, a, d, theta = DH\n",
    "    if modified == True:\n",
    "        T_matrix = Tf(p = [a, 0, 0]) * Tf(R = Rx(alpha)) * Tf(R = Rz(theta)) * Tf(p = [0, 0, d])\n",
    "    elif modified == False:\n",
    "        T_matrix = Tf(R = Rz(theta)) * Tf(p = [0, 0, d]) * Tf(p = [a, 0, 0]) * Tf(R = Rx(alpha))\n",
    "    return T_matrix"
   ]
  },
  {
   "cell_type": "code",
   "execution_count": 58,
   "id": "4018ac8e",
   "metadata": {},
   "outputs": [],
   "source": [
    "from sympy.abc import a, b, c, d\n",
    "al = sympy.symbols(r'\\alpha')\n",
    "th = sympy.symbols(r'\\theta')"
   ]
  },
  {
   "cell_type": "code",
   "execution_count": 59,
   "id": "90b47d33",
   "metadata": {},
   "outputs": [
    {
     "data": {
      "text/latex": [
       "$\\displaystyle \\left[\\begin{matrix}\\cos{\\left(a \\right)} & - \\sin{\\left(a \\right)} & 0\\\\\\sin{\\left(a \\right)} & \\cos{\\left(a \\right)} & 0\\\\0 & 0 & 1\\end{matrix}\\right]$"
      ],
      "text/plain": [
       "Matrix([\n",
       "[cos(a), -sin(a), 0],\n",
       "[sin(a),  cos(a), 0],\n",
       "[     0,       0, 1]])"
      ]
     },
     "execution_count": 59,
     "metadata": {},
     "output_type": "execute_result"
    }
   ],
   "source": [
    "Rz(a)"
   ]
  },
  {
   "cell_type": "code",
   "execution_count": 60,
   "id": "7f7de105",
   "metadata": {},
   "outputs": [
    {
     "data": {
      "text/latex": [
       "$\\displaystyle \\left[\\begin{matrix}1 & 0 & 0\\\\0 & \\cos{\\left(b \\right)} & - \\sin{\\left(b \\right)}\\\\0 & \\sin{\\left(b \\right)} & \\cos{\\left(b \\right)}\\end{matrix}\\right]$"
      ],
      "text/plain": [
       "Matrix([\n",
       "[1,      0,       0],\n",
       "[0, cos(b), -sin(b)],\n",
       "[0, sin(b),  cos(b)]])"
      ]
     },
     "execution_count": 60,
     "metadata": {},
     "output_type": "execute_result"
    }
   ],
   "source": [
    "Rx(b)"
   ]
  },
  {
   "cell_type": "code",
   "execution_count": 61,
   "id": "234d9e7e",
   "metadata": {},
   "outputs": [
    {
     "data": {
      "text/latex": [
       "$\\displaystyle \\left[\\begin{matrix}\\cos{\\left(a \\right)} & - \\sin{\\left(a \\right)} & 0 & 1\\\\\\sin{\\left(a \\right)} & \\cos{\\left(a \\right)} & 0 & 2\\\\0 & 0 & 1 & 3\\end{matrix}\\right]$"
      ],
      "text/plain": [
       "Matrix([\n",
       "[cos(a), -sin(a), 0, 1],\n",
       "[sin(a),  cos(a), 0, 2],\n",
       "[     0,       0, 1, 3]])"
      ]
     },
     "execution_count": 61,
     "metadata": {},
     "output_type": "execute_result"
    }
   ],
   "source": [
    "sympy.Matrix(sympy.BlockMatrix([Rz(a),sympy.Matrix([1,2,3])]))"
   ]
  },
  {
   "cell_type": "code",
   "execution_count": 62,
   "id": "c8d77c58",
   "metadata": {},
   "outputs": [
    {
     "data": {
      "text/latex": [
       "$\\displaystyle \\left[\\begin{matrix}\\cos{\\left(a \\right)} & - \\sin{\\left(a \\right)} & 0 & 1\\\\\\sin{\\left(a \\right)} & \\cos{\\left(a \\right)} & 0 & 2\\\\0 & 0 & 1 & 3\\\\0 & 0 & 0 & 1\\end{matrix}\\right]$"
      ],
      "text/plain": [
       "Matrix([\n",
       "[cos(a), -sin(a), 0, 1],\n",
       "[sin(a),  cos(a), 0, 2],\n",
       "[     0,       0, 1, 3],\n",
       "[     0,       0, 0, 1]])"
      ]
     },
     "execution_count": 62,
     "metadata": {},
     "output_type": "execute_result"
    }
   ],
   "source": [
    "sympy.Matrix.vstack(sympy.Matrix.hstack(Rz(a),sympy.Matrix([1,2,3])), sympy.Matrix([0,0,0,1]).T)"
   ]
  },
  {
   "cell_type": "code",
   "execution_count": 81,
   "id": "aea4b988",
   "metadata": {},
   "outputs": [
    {
     "data": {
      "text/latex": [
       "$\\displaystyle \\left[\\begin{matrix}\\cos{\\left(a \\right)} & - \\sin{\\left(a \\right)} & 0 & 3\\\\\\sin{\\left(a \\right)} & \\cos{\\left(a \\right)} & 0 & 4\\\\0 & 0 & 1 & 5\\\\0 & 0 & 0 & 1\\end{matrix}\\right]$"
      ],
      "text/plain": [
       "Matrix([\n",
       "[cos(a), -sin(a), 0, 3],\n",
       "[sin(a),  cos(a), 0, 4],\n",
       "[     0,       0, 1, 5],\n",
       "[     0,       0, 0, 1]])"
      ]
     },
     "execution_count": 81,
     "metadata": {},
     "output_type": "execute_result"
    }
   ],
   "source": [
    "Tf(R = Rz(a), p = [3,4,5])"
   ]
  },
  {
   "cell_type": "code",
   "execution_count": 79,
   "id": "9823081f",
   "metadata": {},
   "outputs": [
    {
     "data": {
      "text/latex": [
       "$\\displaystyle \\left[\\begin{matrix}\\cos{\\left(\\theta \\right)} & - \\sin{\\left(\\theta \\right)} & 0 & a\\\\\\sin{\\left(\\theta \\right)} \\cos{\\left(\\alpha \\right)} & \\cos{\\left(\\alpha \\right)} \\cos{\\left(\\theta \\right)} & - \\sin{\\left(\\alpha \\right)} & - d \\sin{\\left(\\alpha \\right)}\\\\\\sin{\\left(\\alpha \\right)} \\sin{\\left(\\theta \\right)} & \\sin{\\left(\\alpha \\right)} \\cos{\\left(\\theta \\right)} & \\cos{\\left(\\alpha \\right)} & d \\cos{\\left(\\alpha \\right)}\\\\0 & 0 & 0 & 1\\end{matrix}\\right]$"
      ],
      "text/plain": [
       "Matrix([\n",
       "[            cos(\\theta),            -sin(\\theta),            0,              a],\n",
       "[sin(\\theta)*cos(\\alpha), cos(\\alpha)*cos(\\theta), -sin(\\alpha), -d*sin(\\alpha)],\n",
       "[sin(\\alpha)*sin(\\theta), sin(\\alpha)*cos(\\theta),  cos(\\alpha),  d*cos(\\alpha)],\n",
       "[                      0,                       0,            0,              1]])"
      ]
     },
     "execution_count": 79,
     "metadata": {},
     "output_type": "execute_result"
    }
   ],
   "source": [
    "Tm([al, a, d, th], modified = True)"
   ]
  },
  {
   "cell_type": "code",
   "execution_count": 80,
   "id": "40fa0491",
   "metadata": {},
   "outputs": [
    {
     "data": {
      "text/latex": [
       "$\\displaystyle \\left[\\begin{matrix}\\cos{\\left(\\theta \\right)} & - \\sin{\\left(\\theta \\right)} \\cos{\\left(\\alpha \\right)} & \\sin{\\left(\\alpha \\right)} \\sin{\\left(\\theta \\right)} & a \\cos{\\left(\\theta \\right)}\\\\\\sin{\\left(\\theta \\right)} & \\cos{\\left(\\alpha \\right)} \\cos{\\left(\\theta \\right)} & - \\sin{\\left(\\alpha \\right)} \\cos{\\left(\\theta \\right)} & a \\sin{\\left(\\theta \\right)}\\\\0 & \\sin{\\left(\\alpha \\right)} & \\cos{\\left(\\alpha \\right)} & d\\\\0 & 0 & 0 & 1\\end{matrix}\\right]$"
      ],
      "text/plain": [
       "Matrix([\n",
       "[cos(\\theta), -sin(\\theta)*cos(\\alpha),  sin(\\alpha)*sin(\\theta), a*cos(\\theta)],\n",
       "[sin(\\theta),  cos(\\alpha)*cos(\\theta), -sin(\\alpha)*cos(\\theta), a*sin(\\theta)],\n",
       "[          0,              sin(\\alpha),              cos(\\alpha),             d],\n",
       "[          0,                        0,                        0,             1]])"
      ]
     },
     "execution_count": 80,
     "metadata": {},
     "output_type": "execute_result"
    }
   ],
   "source": [
    "Tm([al, a, d, th], modified = False)"
   ]
  },
  {
   "cell_type": "code",
   "execution_count": null,
   "metadata": {},
   "outputs": [],
   "source": []
  }
 ],
 "metadata": {
  "kernelspec": {
   "display_name": "Python 3 (ipykernel)",
   "language": "python",
   "name": "python3"
  },
  "language_info": {
   "codemirror_mode": {
    "name": "ipython",
    "version": 3
   },
   "file_extension": ".py",
   "mimetype": "text/x-python",
   "name": "python",
   "nbconvert_exporter": "python",
   "pygments_lexer": "ipython3",
   "version": "3.11.5"
  }
 },
 "nbformat": 4,
 "nbformat_minor": 5
}
