{
 "cells": [
  {
   "cell_type": "markdown",
   "id": "178e8641-4a34-4c7c-81c8-532759088ab9",
   "metadata": {
    "tags": []
   },
   "source": [
    "# Formulation of Jacobian for 4R-4P serial-parallel hybrid manipulator as an example"
   ]
  },
  {
   "cell_type": "markdown",
   "id": "5c9d3f8b-6819-417b-8d61-a0136330b8d9",
   "metadata": {},
   "source": [
    "## Figure"
   ]
  },
  {
   "cell_type": "markdown",
   "id": "21d4502f-e08c-4b58-bcf6-697aa0b70202",
   "metadata": {
    "tags": []
   },
   "source": [
    "![4R-4P serial-parallel hybrid manipulator](../../images/RRRRPPPP.png \"4R-4P serial-parallel hybrid manipulator\")"
   ]
  },
  {
   "cell_type": "markdown",
   "id": "5f65b294-cfc0-4cb0-95f4-a81236f2b02a",
   "metadata": {},
   "source": [
    "## Jacobian"
   ]
  },
  {
   "cell_type": "markdown",
   "id": "c2eccd03-d5a0-473b-afc4-5e85156391fc",
   "metadata": {},
   "source": [
    "The topological information of a robot is to be specified by using its robot-topology matrix, as defined [here](../../../../misc/Robot_Topology_Matrix.md). For RRRRPPPP planar serial-parallel hybrid manipulator shown above, the robot topology matrix is given by"
   ]
  },
  {
   "cell_type": "markdown",
   "id": "ae66ec7f-d0f7-4138-bc84-8571a2204a53",
   "metadata": {},
   "source": [
    "$$\\left[\\begin{matrix}9 & 2 & 2 & 0 & 0 & 0 & 0\\\\\\\\1 & 9 & 0 & 2 & 0 & 0 & 0\\\\\\\\1 & 0 & 9 & 2 & 0 & 0 & 0\\\\\\\\0 & 0 & 0 & 9 & 1 & 1 & 0\\\\\\\\0 & 0 & 0 & 1 & 9 & 0 & 1\\\\\\\\0 & 0 & 0 & 0 & 0 & 9 & 1\\\\\\\\0 & 0 & 0 & 0 & 0 & 0 & 9\\end{matrix}\\right]$$"
   ]
  },
  {
   "cell_type": "markdown",
   "id": "1cc8d43e-9b8a-474e-b851-ced1676db736",
   "metadata": {},
   "source": [
    "### Importing required modules"
   ]
  },
  {
   "cell_type": "markdown",
   "id": "2434f958-ddb6-4bdb-9fbd-1c56158b6b7a",
   "metadata": {
    "tags": []
   },
   "source": [
    "The corresponding Jacobian function can be formulated as follows."
   ]
  },
  {
   "cell_type": "code",
   "execution_count": 1,
   "id": "08909c2f-e962-47f9-a8e7-0a7c59171d45",
   "metadata": {
    "tags": []
   },
   "outputs": [],
   "source": [
    "from acrod.jacobian import Jacobian\n",
    "from numpy import array"
   ]
  },
  {
   "cell_type": "markdown",
   "id": "f70765bb-6f03-4ed6-acfe-284d694db8c2",
   "metadata": {},
   "source": [
    "### Specifying Robot-Topology matrix and initialising jacobian class"
   ]
  },
  {
   "cell_type": "markdown",
   "id": "bccb8d9c-b6b1-492d-8234-1b4036433fbb",
   "metadata": {},
   "source": [
    "The robot-topology matrix for RRRRPPPP planar serial-parallel hybrid manipulator is defined and jacobian information is processed via the imported jacobian class as follows."
   ]
  },
  {
   "cell_type": "code",
   "execution_count": 2,
   "id": "574ce738-aa6a-444b-b331-4cd4414acace",
   "metadata": {
    "tags": []
   },
   "outputs": [],
   "source": [
    "M = array(\n",
    "        [[9, 2, 2, 0, 0, 0, 0],\n",
    "         [1, 9, 0, 2, 0, 0, 0],\n",
    "         [1, 0, 9, 2, 0, 0, 0],\n",
    "         [0, 0, 0, 9, 1, 1, 0],\n",
    "         [0, 0, 0, 1, 9, 0, 1],\n",
    "         [0, 0, 0, 0, 0, 9, 1],\n",
    "         [0, 0, 0, 0, 0, 0, 9]]\n",
    "    )\n",
    "jac = Jacobian(M, robot_type = 'planar')"
   ]
  },
  {
   "cell_type": "markdown",
   "id": "97b74dfb-d6f9-4688-918c-dc7bfd0923ba",
   "metadata": {},
   "source": [
    "### Generation of Jacobian function"
   ]
  },
  {
   "cell_type": "markdown",
   "id": "7576e28d-41ed-4896-8565-8a4e2f117d72",
   "metadata": {
    "tags": []
   },
   "source": [
    "Jacobian function is generated as shown below."
   ]
  },
  {
   "cell_type": "code",
   "execution_count": 3,
   "id": "7a6c5bcf-373d-4816-9bbb-aa184afd1caa",
   "metadata": {
    "tags": []
   },
   "outputs": [],
   "source": [
    "jacobian_function = jac.get_jacobian_function()"
   ]
  },
  {
   "cell_type": "markdown",
   "id": "39935544-fffc-4655-a081-c7df8502db0f",
   "metadata": {},
   "source": [
    "### Various attributes of the jacobian object"
   ]
  },
  {
   "cell_type": "markdown",
   "id": "a88ed41c-0741-48c9-80d4-4e210ea7ac3e",
   "metadata": {},
   "source": [
    "In the process of generating the above jacobian function, other attributes of the jacobian object also are updated. Symbolic Jacobian matrices can be extracted from the attributes. Since this is a non-serial robot, there would be four matrices required to compute the Jacobian, which are $J_a$, $J_p$, $A_a$ and $A_p$. These can be extracted by the attributes `Ja`, `Jp`, `Aa` and `Ap`, respectively, as shown below."
   ]
  },
  {
   "cell_type": "code",
   "execution_count": 4,
   "id": "1d18978c-3a4e-4bef-bb1a-32f21d1fc908",
   "metadata": {
    "tags": []
   },
   "outputs": [
    {
     "data": {
      "text/latex": [
       "$\\displaystyle \\left[\\begin{matrix}\\cos{\\left(\\phi_{(1,2)} \\right)} & 0 & - a_{y} + r_{(4,5)y}\\\\\\sin{\\left(\\phi_{(1,2)} \\right)} & 0 & a_{x} - r_{(4,5)x}\\\\0 & 0 & 1\\end{matrix}\\right]$"
      ],
      "text/plain": [
       "Matrix([\n",
       "[cos(\\phi_{(1,2)}), 0, -a_y + r_{(4,5)y}],\n",
       "[sin(\\phi_{(1,2)}), 0,  a_x - r_{(4,5)x}],\n",
       "[                0, 0,                 1]])"
      ]
     },
     "execution_count": 4,
     "metadata": {},
     "output_type": "execute_result"
    }
   ],
   "source": [
    "symbolic_Ja = jac.Ja\n",
    "symbolic_Ja"
   ]
  },
  {
   "cell_type": "code",
   "execution_count": 5,
   "id": "969d5a6c-6fd4-4b72-85c3-cf5b33c63491",
   "metadata": {
    "tags": []
   },
   "outputs": [
    {
     "data": {
      "text/latex": [
       "$\\displaystyle \\left[\\begin{matrix}\\cos{\\left(\\phi_{(2,4)} \\right)} & 0 & 0 & - a_{y} + r_{(5,7)y} & 0\\\\\\sin{\\left(\\phi_{(2,4)} \\right)} & 0 & 0 & a_{x} - r_{(5,7)x} & 0\\\\0 & 0 & 0 & 1 & 0\\end{matrix}\\right]$"
      ],
      "text/plain": [
       "Matrix([\n",
       "[cos(\\phi_{(2,4)}), 0, 0, -a_y + r_{(5,7)y}, 0],\n",
       "[sin(\\phi_{(2,4)}), 0, 0,  a_x - r_{(5,7)x}, 0],\n",
       "[                0, 0, 0,                 1, 0]])"
      ]
     },
     "execution_count": 5,
     "metadata": {},
     "output_type": "execute_result"
    }
   ],
   "source": [
    "symbolic_Jp = jac.Jp\n",
    "symbolic_Jp"
   ]
  },
  {
   "cell_type": "code",
   "execution_count": 6,
   "id": "133b34cb-330c-45a8-8765-c832dd728653",
   "metadata": {
    "tags": []
   },
   "outputs": [
    {
     "data": {
      "text/latex": [
       "$\\displaystyle \\left[\\begin{matrix}0 & 0 & a_{y} - r_{(4,5)y}\\\\0 & 0 & - a_{x} + r_{(4,5)x}\\\\- \\cos{\\left(\\phi_{(1,2)} \\right)} & \\cos{\\left(\\phi_{(1,3)} \\right)} & 0\\\\- \\sin{\\left(\\phi_{(1,2)} \\right)} & \\sin{\\left(\\phi_{(1,3)} \\right)} & 0\\\\0 & 0 & -1\\end{matrix}\\right]$"
      ],
      "text/plain": [
       "Matrix([\n",
       "[                 0,                 0,  a_y - r_{(4,5)y}],\n",
       "[                 0,                 0, -a_x + r_{(4,5)x}],\n",
       "[-cos(\\phi_{(1,2)}), cos(\\phi_{(1,3)}),                 0],\n",
       "[-sin(\\phi_{(1,2)}), sin(\\phi_{(1,3)}),                 0],\n",
       "[                 0,                 0,                -1]])"
      ]
     },
     "execution_count": 6,
     "metadata": {},
     "output_type": "execute_result"
    }
   ],
   "source": [
    "symbolic_Aa = jac.Aa\n",
    "symbolic_Aa"
   ]
  },
  {
   "cell_type": "code",
   "execution_count": 7,
   "id": "005c8cc2-359e-4b99-988a-43bc0542fb87",
   "metadata": {
    "tags": []
   },
   "outputs": [
    {
     "data": {
      "text/latex": [
       "$\\displaystyle \\left[\\begin{matrix}0 & 0 & - a_{y} + r_{(4,6)y} & a_{y} - r_{(5,7)y} & - a_{y} + r_{(6,7)y}\\\\0 & 0 & a_{x} - r_{(4,6)x} & - a_{x} + r_{(5,7)x} & a_{x} - r_{(6,7)x}\\\\- \\cos{\\left(\\phi_{(2,4)} \\right)} & \\cos{\\left(\\phi_{(3,4)} \\right)} & 0 & 0 & 0\\\\- \\sin{\\left(\\phi_{(2,4)} \\right)} & \\sin{\\left(\\phi_{(3,4)} \\right)} & 0 & 0 & 0\\\\0 & 0 & 1 & -1 & 1\\end{matrix}\\right]$"
      ],
      "text/plain": [
       "Matrix([\n",
       "[                 0,                 0, -a_y + r_{(4,6)y},  a_y - r_{(5,7)y}, -a_y + r_{(6,7)y}],\n",
       "[                 0,                 0,  a_x - r_{(4,6)x}, -a_x + r_{(5,7)x},  a_x - r_{(6,7)x}],\n",
       "[-cos(\\phi_{(2,4)}), cos(\\phi_{(3,4)}),                 0,                 0,                 0],\n",
       "[-sin(\\phi_{(2,4)}), sin(\\phi_{(3,4)}),                 0,                 0,                 0],\n",
       "[                 0,                 0,                 1,                -1,                 1]])"
      ]
     },
     "execution_count": 7,
     "metadata": {},
     "output_type": "execute_result"
    }
   ],
   "source": [
    "symbolic_Ap = jac.Ap\n",
    "symbolic_Ap"
   ]
  },
  {
   "cell_type": "markdown",
   "id": "833c496e-b4a2-419f-8ec9-b0b7e51fb2e4",
   "metadata": {},
   "source": [
    "The above matrices are based on the notations defined and described [here](../../../../misc/Notation_and_Nomenclature.md)."
   ]
  },
  {
   "cell_type": "markdown",
   "id": "4d5e2784-d2a3-436c-a6a6-b75f6d9aed5a",
   "metadata": {},
   "source": [
    "### Active joint velocities"
   ]
  },
  {
   "cell_type": "markdown",
   "id": "440411bf-ab48-40b1-bc2b-1164fa7d3ec6",
   "metadata": {},
   "source": [
    "Active joint velocities, in the corresponding order, can be viewed by running the following lines."
   ]
  },
  {
   "cell_type": "code",
   "execution_count": 8,
   "id": "fc08ee43-f813-47a5-93a5-507cf14eb2ac",
   "metadata": {
    "tags": []
   },
   "outputs": [
    {
     "data": {
      "text/latex": [
       "$\\displaystyle \\left[\\begin{matrix}\\dot{d}_{(1,2)}\\\\\\dot{d}_{(1,3)}\\\\\\dot{\\theta}_{(4,5)}\\end{matrix}\\right]$"
      ],
      "text/plain": [
       "Matrix([\n",
       "[     \\dot{d}_{(1,2)}],\n",
       "[     \\dot{d}_{(1,3)}],\n",
       "[\\dot{\\theta}_{(4,5)}]])"
      ]
     },
     "execution_count": 8,
     "metadata": {},
     "output_type": "execute_result"
    }
   ],
   "source": [
    "active_joint_velocities = jac.active_joint_velocities_symbolic\n",
    "active_joint_velocities"
   ]
  },
  {
   "cell_type": "markdown",
   "id": "1af94039-0c88-4058-8d64-928e0f178c2e",
   "metadata": {},
   "source": [
    "### Robot's dimensional parameters"
   ]
  },
  {
   "cell_type": "markdown",
   "id": "56da4f18-8c8c-4ed1-8d8d-fa47d9d9b194",
   "metadata": {},
   "source": [
    "The robot's dimensional parameters can be viewed by running the below line."
   ]
  },
  {
   "cell_type": "code",
   "execution_count": 9,
   "id": "0eb76fc8-129d-405e-b698-184c22c50592",
   "metadata": {
    "tags": []
   },
   "outputs": [
    {
     "data": {
      "text/latex": [
       "$\\displaystyle \\left[\\begin{matrix}\\phi_{(1,2)}\\\\\\phi_{(1,3)}\\\\\\phi_{(2,4)}\\\\\\phi_{(3,4)}\\\\r_{(4,5)x}\\\\r_{(4,5)y}\\\\r_{(4,6)x}\\\\r_{(4,6)y}\\\\r_{(5,7)x}\\\\r_{(5,7)y}\\\\r_{(6,7)x}\\\\r_{(6,7)y}\\end{matrix}\\right]$"
      ],
      "text/plain": [
       "Matrix([\n",
       "[\\phi_{(1,2)}],\n",
       "[\\phi_{(1,3)}],\n",
       "[\\phi_{(2,4)}],\n",
       "[\\phi_{(3,4)}],\n",
       "[  r_{(4,5)x}],\n",
       "[  r_{(4,5)y}],\n",
       "[  r_{(4,6)x}],\n",
       "[  r_{(4,6)y}],\n",
       "[  r_{(5,7)x}],\n",
       "[  r_{(5,7)y}],\n",
       "[  r_{(6,7)x}],\n",
       "[  r_{(6,7)y}]])"
      ]
     },
     "execution_count": 9,
     "metadata": {},
     "output_type": "execute_result"
    }
   ],
   "source": [
    "robot_dimensional_parameters = jac.parameters_symbolic\n",
    "robot_dimensional_parameters"
   ]
  },
  {
   "cell_type": "markdown",
   "id": "bdbd77bb-1108-4a79-b5af-fd697440cb15",
   "metadata": {},
   "source": [
    "### Robot's end-effector parameters"
   ]
  },
  {
   "cell_type": "markdown",
   "id": "22d0af32-c073-41dc-922b-67de82442b35",
   "metadata": {},
   "source": [
    "The robot's end-effector parameters can be viewed by running the below line."
   ]
  },
  {
   "cell_type": "code",
   "execution_count": 10,
   "id": "a469d382-a2d2-4c05-abef-95f14023d735",
   "metadata": {
    "tags": []
   },
   "outputs": [
    {
     "data": {
      "text/latex": [
       "$\\displaystyle \\left[\\begin{matrix}a_{x}\\\\a_{y}\\end{matrix}\\right]$"
      ],
      "text/plain": [
       "Matrix([\n",
       "[a_x],\n",
       "[a_y]])"
      ]
     },
     "execution_count": 10,
     "metadata": {},
     "output_type": "execute_result"
    }
   ],
   "source": [
    "robot_endeffector_parameters = jac.endeffector_variables_symbolic\n",
    "robot_endeffector_parameters"
   ]
  },
  {
   "cell_type": "markdown",
   "id": "ddf7a7d8-15bf-490b-a815-194872016096",
   "metadata": {},
   "source": [
    "### Sample computation of Jacobian for the configuration corresponding to the parameters shown below:\n",
    "\n",
    "- End-effector point: $\\textbf{a}=\\hat{i}+2\\hat{j}$\n",
    "- Locations of joints: $\\textbf{r}\\_{(4,5)}=2\\hat{i}+8\\hat{j}$, $\\textbf{r}\\_{(4,6)}=6\\hat{i}+8\\hat{j}$, $\\textbf{r}\\_{(5,7)}=3\\hat{i}+10\\hat{j}$ and $\\textbf{r}\\_{(6,7)}=5\\hat{i}+10\\hat{j}$\n",
    "- Orientations of joints: $\\phi\\_{(1,2)}=2\\pi/3$, $\\phi\\_{(1,3)}=\\pi/3$, $\\phi\\_{(2,4)}=\\pi/3$ and $\\phi\\_{(3,4)}=2\\pi/3$"
   ]
  },
  {
   "cell_type": "markdown",
   "id": "6f25cd6e-6885-4bac-a16f-c92f5dd6f6e8",
   "metadata": {},
   "source": [
    "For the given set of dimensional parameters of the robot, the numerical Jacobian can be computed as follows. Firstly, we need to gather the configuration parameters in Python list format, in a particular order. The robot dimensional parameters from `jac.parameters_symbolic` are found (as shown earlier) to be in the order of $\\phi_{(1,2)}$, $\\phi_{(1,3)}$, $\\phi_{(2,4)}$, $\\phi_{(3,4)}$, $r_{(4,5)x}$, $r_{(4,5)y}$, $r_{(4,6)x}$, $r_{(4,6)y}$, $r_{(5,7)x}$, $r_{(5,7)y}$, $r_{(6,7)x}$ and $r_{(6,7)y}$. Hence the configuration parameters are to be supplied in the same order, as a list. Thus, the computation can be performed as shown below."
   ]
  },
  {
   "cell_type": "code",
   "execution_count": 11,
   "id": "30dc1674-280f-4889-bc34-a83a1a40191d",
   "metadata": {
    "tags": []
   },
   "outputs": [
    {
     "data": {
      "text/plain": [
       "array([[ -0.5      ,   0.5      , -10.       ],\n",
       "       [  0.8660254,   0.8660254,   3.       ],\n",
       "       [  0.       ,   0.       ,  -1.       ]])"
      ]
     },
     "execution_count": 11,
     "metadata": {},
     "output_type": "execute_result"
    }
   ],
   "source": [
    "from numpy import pi\n",
    "\n",
    "end_effector_point = [1,2]\n",
    "configuration_parameters = [2*pi/3,pi/3,pi/3,2*pi/3,2,8,6,8,3,10,5,10]\n",
    "jacobian_at_the_given_configuration = jacobian_function(end_effector_point, configuration_parameters)\n",
    "jacobian_at_the_given_configuration"
   ]
  },
  {
   "cell_type": "markdown",
   "id": "0fc4b583-6156-416d-9eb9-24e12f7b3d6a",
   "metadata": {},
   "source": [
    "### Accessing each matrix individually:"
   ]
  },
  {
   "cell_type": "markdown",
   "id": "3b89626f-5e66-417b-8e4c-860f4fecd046",
   "metadata": {},
   "source": [
    "Each of $J_a$, $J_p$, $A_a$ and $A_p$ functions can be accessed as shown below"
   ]
  },
  {
   "cell_type": "code",
   "execution_count": 12,
   "id": "10a9914a-2994-49cb-8138-6aa5a47e4ff2",
   "metadata": {
    "tags": []
   },
   "outputs": [
    {
     "data": {
      "text/plain": [
       "array([[-0.5      ,  0.       ,  6.       ],\n",
       "       [ 0.8660254,  0.       , -1.       ],\n",
       "       [ 0.       ,  0.       ,  1.       ]])"
      ]
     },
     "execution_count": 12,
     "metadata": {},
     "output_type": "execute_result"
    }
   ],
   "source": [
    "numerical_Ja = jac.Ja_func(end_effector_point, configuration_parameters)\n",
    "numerical_Ja"
   ]
  },
  {
   "cell_type": "code",
   "execution_count": 13,
   "id": "c81b0cb9-c334-49ae-a539-7651d62751a4",
   "metadata": {
    "tags": []
   },
   "outputs": [
    {
     "data": {
      "text/plain": [
       "array([[ 0.5      ,  0.       ,  0.       ,  8.       ,  0.       ],\n",
       "       [ 0.8660254,  0.       ,  0.       , -2.       ,  0.       ],\n",
       "       [ 0.       ,  0.       ,  0.       ,  1.       ,  0.       ]])"
      ]
     },
     "execution_count": 13,
     "metadata": {},
     "output_type": "execute_result"
    }
   ],
   "source": [
    "numerical_Jp = jac.Jp_func(end_effector_point, configuration_parameters)\n",
    "numerical_Jp"
   ]
  },
  {
   "cell_type": "code",
   "execution_count": 14,
   "id": "9d2f5e31-70fb-4773-9be3-163c0ee9b43b",
   "metadata": {
    "tags": []
   },
   "outputs": [
    {
     "data": {
      "text/plain": [
       "array([[ 0.       ,  0.       , -6.       ],\n",
       "       [ 0.       ,  0.       ,  1.       ],\n",
       "       [ 0.5      ,  0.5      ,  0.       ],\n",
       "       [-0.8660254,  0.8660254,  0.       ],\n",
       "       [ 0.       ,  0.       , -1.       ]])"
      ]
     },
     "execution_count": 14,
     "metadata": {},
     "output_type": "execute_result"
    }
   ],
   "source": [
    "numerical_Aa = jac.Aa_func(end_effector_point, configuration_parameters)\n",
    "numerical_Aa"
   ]
  },
  {
   "cell_type": "code",
   "execution_count": 15,
   "id": "1ba654e8-76b7-4507-b9cd-3aed5ac5072d",
   "metadata": {
    "tags": []
   },
   "outputs": [
    {
     "data": {
      "text/plain": [
       "array([[ 0.       ,  0.       ,  6.       , -8.       ,  8.       ],\n",
       "       [ 0.       ,  0.       , -5.       ,  2.       , -4.       ],\n",
       "       [-0.5      , -0.5      ,  0.       ,  0.       ,  0.       ],\n",
       "       [-0.8660254,  0.8660254,  0.       ,  0.       ,  0.       ],\n",
       "       [ 0.       ,  0.       ,  1.       , -1.       ,  1.       ]])"
      ]
     },
     "execution_count": 15,
     "metadata": {},
     "output_type": "execute_result"
    }
   ],
   "source": [
    "numerical_Ap = jac.Ap_func(end_effector_point, configuration_parameters)\n",
    "numerical_Ap"
   ]
  },
  {
   "cell_type": "markdown",
   "id": "2f492c24-7c6c-475d-9c29-530aa33936ce",
   "metadata": {
    "tags": []
   },
   "source": [
    "And the computation $J_a-J_pA^{-1}_pA_a$ is given by the code below, which gives the same output as `jacobian_at_the_given_configuration`."
   ]
  },
  {
   "cell_type": "code",
   "execution_count": 16,
   "id": "e744d1a8-c90e-4d1e-bc7d-a2039f463657",
   "metadata": {
    "tags": []
   },
   "outputs": [
    {
     "data": {
      "text/plain": [
       "array([[ -0.5      ,   0.5      , -10.       ],\n",
       "       [  0.8660254,   0.8660254,   3.       ],\n",
       "       [  0.       ,   0.       ,  -1.       ]])"
      ]
     },
     "execution_count": 16,
     "metadata": {},
     "output_type": "execute_result"
    }
   ],
   "source": [
    "import numpy\n",
    "numerical_Ja-numpy.matmul(numpy.matmul(numerical_Jp,numpy.linalg.inv(numerical_Ap)),numerical_Aa)"
   ]
  },
  {
   "cell_type": "markdown",
   "id": "bc6b2bcc-3faf-4ea2-bd8f-0dc374a8aa7f",
   "metadata": {},
   "source": [
    "### Some other attributes"
   ]
  },
  {
   "cell_type": "markdown",
   "id": "38751999-8a5d-4c4a-9dcb-c1e84b1ab97a",
   "metadata": {},
   "source": [
    "To get the computed list of all connecting paths from the base link to the end-effector link, the below script can be used, which gives the list of all connecting paths (only link numbers are shown, indexed from 0)."
   ]
  },
  {
   "cell_type": "code",
   "execution_count": 17,
   "id": "16dd7d8f-1490-4373-9a8e-f654118af216",
   "metadata": {
    "tags": []
   },
   "outputs": [
    {
     "data": {
      "text/plain": [
       "[[0, 1, 3, 4, 6], [0, 1, 3, 5, 6], [0, 2, 3, 4, 6], [0, 2, 3, 5, 6]]"
      ]
     },
     "execution_count": 17,
     "metadata": {},
     "output_type": "execute_result"
    }
   ],
   "source": [
    "jac.P"
   ]
  },
  {
   "cell_type": "markdown",
   "id": "b8e4dd28-8441-45a6-bb51-3a43d33c11ad",
   "metadata": {},
   "source": [
    "Out of the above paths, the computed list of independent paths pertaining to linear velocities and angular velocities, can be accessed by the below scripts:"
   ]
  },
  {
   "cell_type": "markdown",
   "id": "7450b379-b757-48ff-aa50-69217c7c56a5",
   "metadata": {},
   "source": [
    "For independent paths pertaining to linear velocities:"
   ]
  },
  {
   "cell_type": "code",
   "execution_count": 18,
   "id": "a8d17753-a25f-4d37-8067-b1f32848a75a",
   "metadata": {
    "tags": []
   },
   "outputs": [
    {
     "data": {
      "text/plain": [
       "[[0, 1, 3, 4, 6], [0, 1, 3, 5, 6], [0, 2, 3, 4, 6]]"
      ]
     },
     "execution_count": 18,
     "metadata": {},
     "output_type": "execute_result"
    }
   ],
   "source": [
    "jac.P_tilde"
   ]
  },
  {
   "cell_type": "markdown",
   "id": "f5ad7f1e-696b-4c12-bb84-0160ecad99cb",
   "metadata": {},
   "source": [
    "For independent paths pertaining to angular velocities:"
   ]
  },
  {
   "cell_type": "code",
   "execution_count": 19,
   "id": "9360a712-d075-4390-a3ca-620507a73c12",
   "metadata": {
    "tags": []
   },
   "outputs": [
    {
     "data": {
      "text/plain": [
       "[[0, 1, 3, 4, 6], [0, 1, 3, 5, 6]]"
      ]
     },
     "execution_count": 19,
     "metadata": {},
     "output_type": "execute_result"
    }
   ],
   "source": [
    "jac.P_tilde_omega"
   ]
  },
  {
   "cell_type": "markdown",
   "id": "51030899-dc7c-42a8-b7bb-2dbec15c8e50",
   "metadata": {},
   "source": [
    "The above scripts give the lists of all the independent connecting paths pertaining to linear and angular velocities (only link numbers are shown, indexed from 0)."
   ]
  },
  {
   "cell_type": "markdown",
   "id": "cd35c146-5aad-45f6-9829-158b624fae60",
   "metadata": {},
   "source": [
    "# Mathematical derivation of Jacobian"
   ]
  },
  {
   "cell_type": "markdown",
   "id": "554ec23e-abc2-47d0-9399-79402c0dd1f7",
   "metadata": {},
   "source": [
    "The mathematical derivation is shown [here](../../maths/4R4P_parallel_robot.md)."
   ]
  }
 ],
 "metadata": {
  "kernelspec": {
   "display_name": "Python 3 (ipykernel)",
   "language": "python",
   "name": "python3"
  },
  "language_info": {
   "codemirror_mode": {
    "name": "ipython",
    "version": 3
   },
   "file_extension": ".py",
   "mimetype": "text/x-python",
   "name": "python",
   "nbconvert_exporter": "python",
   "pygments_lexer": "ipython3",
   "version": "3.11.5"
  }
 },
 "nbformat": 4,
 "nbformat_minor": 5
}
