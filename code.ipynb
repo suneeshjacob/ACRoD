{
 "cells": [
  {
   "cell_type": "code",
   "execution_count": 1,
   "id": "d0390cc0",
   "metadata": {},
   "outputs": [],
   "source": [
    "import sympy"
   ]
  },
  {
   "cell_type": "code",
   "execution_count": 2,
   "id": "ddbb6a95",
   "metadata": {},
   "outputs": [],
   "source": [
    "def Rz(theta): \n",
    "    return sympy.Matrix([[sympy.cos(theta), -sympy.sin(theta), 0],[sympy.sin(theta), sympy.cos(theta), 0], [0, 0, 1]])\n",
    "\n",
    "def Rx(theta): \n",
    "    return sympy.Matrix([[1, 0, 0],[0, sympy.cos(theta), -sympy.sin(theta)],[0, sympy.sin(theta), sympy.cos(theta)]])\n",
    "\n",
    "def Tf(R = sympy.eye(3), p = [0,0,0], scale = [0,0,0,1]): \n",
    "    return sympy.Matrix.vstack(sympy.Matrix.hstack(R,sympy.Matrix(p)), sympy.Matrix(scale).T)\n",
    "\n",
    "def Tm(DH, modified = False):\n",
    "    alpha, a, d, theta = DH\n",
    "    if modified == True:\n",
    "        T_matrix = Tf(p = [a, 0, 0]) * Tf(R = Rx(alpha)) * Tf(R = Rz(theta)) * Tf(p = [0, 0, d])\n",
    "    elif modified == False:\n",
    "        T_matrix = Tf(R = Rz(theta)) * Tf(p = [0, 0, d]) * Tf(p = [a, 0, 0]) * Tf(R = Rx(alpha))\n",
    "    return T_matrix"
   ]
  },
  {
   "cell_type": "code",
   "execution_count": 3,
   "id": "4018ac8e",
   "metadata": {},
   "outputs": [],
   "source": [
    "from sympy.abc import a, b, c, d\n",
    "al = sympy.symbols(r'\\alpha')\n",
    "th = sympy.symbols(r'\\theta')\n",
    "ph = sympy.symbols(r'\\phi')"
   ]
  },
  {
   "cell_type": "code",
   "execution_count": 4,
   "id": "90b47d33",
   "metadata": {},
   "outputs": [
    {
     "data": {
      "text/latex": [
       "$\\displaystyle \\left[\\begin{matrix}\\cos{\\left(a \\right)} & - \\sin{\\left(a \\right)} & 0\\\\\\sin{\\left(a \\right)} & \\cos{\\left(a \\right)} & 0\\\\0 & 0 & 1\\end{matrix}\\right]$"
      ],
      "text/plain": [
       "Matrix([\n",
       "[cos(a), -sin(a), 0],\n",
       "[sin(a),  cos(a), 0],\n",
       "[     0,       0, 1]])"
      ]
     },
     "execution_count": 4,
     "metadata": {},
     "output_type": "execute_result"
    }
   ],
   "source": [
    "Rz(a)"
   ]
  },
  {
   "cell_type": "code",
   "execution_count": 5,
   "id": "7f7de105",
   "metadata": {},
   "outputs": [
    {
     "data": {
      "text/latex": [
       "$\\displaystyle \\left[\\begin{matrix}1 & 0 & 0\\\\0 & \\cos{\\left(b \\right)} & - \\sin{\\left(b \\right)}\\\\0 & \\sin{\\left(b \\right)} & \\cos{\\left(b \\right)}\\end{matrix}\\right]$"
      ],
      "text/plain": [
       "Matrix([\n",
       "[1,      0,       0],\n",
       "[0, cos(b), -sin(b)],\n",
       "[0, sin(b),  cos(b)]])"
      ]
     },
     "execution_count": 5,
     "metadata": {},
     "output_type": "execute_result"
    }
   ],
   "source": [
    "Rx(b)"
   ]
  },
  {
   "cell_type": "code",
   "execution_count": 6,
   "id": "aea4b988",
   "metadata": {},
   "outputs": [
    {
     "data": {
      "text/latex": [
       "$\\displaystyle \\left[\\begin{matrix}\\cos{\\left(a \\right)} & - \\sin{\\left(a \\right)} & 0 & 3\\\\\\sin{\\left(a \\right)} & \\cos{\\left(a \\right)} & 0 & 4\\\\0 & 0 & 1 & 5\\\\0 & 0 & 0 & 1\\end{matrix}\\right]$"
      ],
      "text/plain": [
       "Matrix([\n",
       "[cos(a), -sin(a), 0, 3],\n",
       "[sin(a),  cos(a), 0, 4],\n",
       "[     0,       0, 1, 5],\n",
       "[     0,       0, 0, 1]])"
      ]
     },
     "execution_count": 6,
     "metadata": {},
     "output_type": "execute_result"
    }
   ],
   "source": [
    "Tf(R = Rz(a), p = [3,4,5])"
   ]
  },
  {
   "cell_type": "code",
   "execution_count": null,
   "id": "536893c1",
   "metadata": {},
   "outputs": [],
   "source": []
  },
  {
   "cell_type": "code",
   "execution_count": 7,
   "id": "9823081f",
   "metadata": {},
   "outputs": [
    {
     "data": {
      "text/latex": [
       "$\\displaystyle \\left[\\begin{matrix}\\cos{\\left(\\theta \\right)} & - \\sin{\\left(\\theta \\right)} & 0 & a\\\\\\sin{\\left(\\theta \\right)} \\cos{\\left(\\alpha \\right)} & \\cos{\\left(\\alpha \\right)} \\cos{\\left(\\theta \\right)} & - \\sin{\\left(\\alpha \\right)} & - d \\sin{\\left(\\alpha \\right)}\\\\\\sin{\\left(\\alpha \\right)} \\sin{\\left(\\theta \\right)} & \\sin{\\left(\\alpha \\right)} \\cos{\\left(\\theta \\right)} & \\cos{\\left(\\alpha \\right)} & d \\cos{\\left(\\alpha \\right)}\\\\0 & 0 & 0 & 1\\end{matrix}\\right]$"
      ],
      "text/plain": [
       "Matrix([\n",
       "[            cos(\\theta),            -sin(\\theta),            0,              a],\n",
       "[sin(\\theta)*cos(\\alpha), cos(\\alpha)*cos(\\theta), -sin(\\alpha), -d*sin(\\alpha)],\n",
       "[sin(\\alpha)*sin(\\theta), sin(\\alpha)*cos(\\theta),  cos(\\alpha),  d*cos(\\alpha)],\n",
       "[                      0,                       0,            0,              1]])"
      ]
     },
     "execution_count": 7,
     "metadata": {},
     "output_type": "execute_result"
    }
   ],
   "source": [
    "Tm([al, a, d, th], modified = True)"
   ]
  },
  {
   "cell_type": "code",
   "execution_count": 8,
   "id": "40fa0491",
   "metadata": {},
   "outputs": [
    {
     "data": {
      "text/latex": [
       "$\\displaystyle \\left[\\begin{matrix}\\cos{\\left(\\theta \\right)} & - \\sin{\\left(\\theta \\right)} \\cos{\\left(\\alpha \\right)} & \\sin{\\left(\\alpha \\right)} \\sin{\\left(\\theta \\right)} & a \\cos{\\left(\\theta \\right)}\\\\\\sin{\\left(\\theta \\right)} & \\cos{\\left(\\alpha \\right)} \\cos{\\left(\\theta \\right)} & - \\sin{\\left(\\alpha \\right)} \\cos{\\left(\\theta \\right)} & a \\sin{\\left(\\theta \\right)}\\\\0 & \\sin{\\left(\\alpha \\right)} & \\cos{\\left(\\alpha \\right)} & d\\\\0 & 0 & 0 & 1\\end{matrix}\\right]$"
      ],
      "text/plain": [
       "Matrix([\n",
       "[cos(\\theta), -sin(\\theta)*cos(\\alpha),  sin(\\alpha)*sin(\\theta), a*cos(\\theta)],\n",
       "[sin(\\theta),  cos(\\alpha)*cos(\\theta), -sin(\\alpha)*cos(\\theta), a*sin(\\theta)],\n",
       "[          0,              sin(\\alpha),              cos(\\alpha),             d],\n",
       "[          0,                        0,                        0,             1]])"
      ]
     },
     "execution_count": 8,
     "metadata": {},
     "output_type": "execute_result"
    }
   ],
   "source": [
    "Tm([al, a, d, th], modified = False)"
   ]
  },
  {
   "cell_type": "code",
   "execution_count": 9,
   "metadata": {},
   "outputs": [
    {
     "data": {
      "text/latex": [
       "$\\displaystyle \\left[\\begin{matrix}\\cos{\\left(\\theta \\right)} & - \\sin{\\left(\\theta \\right)} \\cos{\\left(\\alpha \\right)} & \\sin{\\left(\\alpha \\right)} \\sin{\\left(\\theta \\right)} & a \\cos{\\left(\\theta \\right)}\\\\\\sin{\\left(\\theta \\right)} & \\cos{\\left(\\alpha \\right)} \\cos{\\left(\\theta \\right)} & - \\sin{\\left(\\alpha \\right)} \\cos{\\left(\\theta \\right)} & a \\sin{\\left(\\theta \\right)}\\\\0 & \\sin{\\left(\\alpha \\right)} & \\cos{\\left(\\alpha \\right)} & c + d\\\\0 & 0 & 0 & 1\\end{matrix}\\right]$"
      ],
      "text/plain": [
       "Matrix([\n",
       "[cos(\\theta), -sin(\\theta)*cos(\\alpha),  sin(\\alpha)*sin(\\theta), a*cos(\\theta)],\n",
       "[sin(\\theta),  cos(\\alpha)*cos(\\theta), -sin(\\alpha)*cos(\\theta), a*sin(\\theta)],\n",
       "[          0,              sin(\\alpha),              cos(\\alpha),         c + d],\n",
       "[          0,                        0,                        0,             1]])"
      ]
     },
     "execution_count": 9,
     "metadata": {},
     "output_type": "execute_result"
    }
   ],
   "source": [
    "Tf(p = [0, 0, c]) * Tf(R = Rz(th)) * Tf(p = [0, 0, d]) * Tf(p = [a, 0, 0]) * Tf(R = Rx(al))"
   ]
  },
  {
   "cell_type": "code",
   "execution_count": 10,
   "id": "00aea5f5",
   "metadata": {},
   "outputs": [
    {
     "data": {
      "text/latex": [
       "$\\displaystyle \\left[\\begin{matrix}\\sin{\\left(\\phi \\right)} \\cos{\\left(\\theta \\right)} + \\sin{\\left(\\theta \\right)} \\cos{\\left(\\phi \\right)} & \\left(- \\sin{\\left(\\phi \\right)} \\sin{\\left(\\theta \\right)} + \\cos{\\left(\\phi \\right)} \\cos{\\left(\\theta \\right)}\\right) \\cos{\\left(\\alpha \\right)} & - \\left(- \\sin{\\left(\\phi \\right)} \\sin{\\left(\\theta \\right)} + \\cos{\\left(\\phi \\right)} \\cos{\\left(\\theta \\right)}\\right) \\sin{\\left(\\alpha \\right)} & a \\left(\\sin{\\left(\\phi \\right)} \\cos{\\left(\\theta \\right)} + \\sin{\\left(\\theta \\right)} \\cos{\\left(\\phi \\right)}\\right)\\\\\\sin{\\left(\\phi \\right)} \\sin{\\left(\\theta \\right)} - \\cos{\\left(\\phi \\right)} \\cos{\\left(\\theta \\right)} & \\left(\\sin{\\left(\\phi \\right)} \\cos{\\left(\\theta \\right)} + \\sin{\\left(\\theta \\right)} \\cos{\\left(\\phi \\right)}\\right) \\cos{\\left(\\alpha \\right)} & - \\left(\\sin{\\left(\\phi \\right)} \\cos{\\left(\\theta \\right)} + \\sin{\\left(\\theta \\right)} \\cos{\\left(\\phi \\right)}\\right) \\sin{\\left(\\alpha \\right)} & a \\left(\\sin{\\left(\\phi \\right)} \\sin{\\left(\\theta \\right)} - \\cos{\\left(\\phi \\right)} \\cos{\\left(\\theta \\right)}\\right)\\\\0 & \\sin{\\left(\\alpha \\right)} & \\cos{\\left(\\alpha \\right)} & d\\\\0 & 0 & 0 & 1\\end{matrix}\\right]$"
      ],
      "text/plain": [
       "Matrix([\n",
       "[sin(\\phi)*cos(\\theta) + sin(\\theta)*cos(\\phi), (-sin(\\phi)*sin(\\theta) + cos(\\phi)*cos(\\theta))*cos(\\alpha), -(-sin(\\phi)*sin(\\theta) + cos(\\phi)*cos(\\theta))*sin(\\alpha), a*(sin(\\phi)*cos(\\theta) + sin(\\theta)*cos(\\phi))],\n",
       "[sin(\\phi)*sin(\\theta) - cos(\\phi)*cos(\\theta),  (sin(\\phi)*cos(\\theta) + sin(\\theta)*cos(\\phi))*cos(\\alpha),  -(sin(\\phi)*cos(\\theta) + sin(\\theta)*cos(\\phi))*sin(\\alpha), a*(sin(\\phi)*sin(\\theta) - cos(\\phi)*cos(\\theta))],\n",
       "[                                            0,                                                  sin(\\alpha),                                                   cos(\\alpha),                                                 d],\n",
       "[                                            0,                                                            0,                                                             0,                                                 1]])"
      ]
     },
     "execution_count": 10,
     "metadata": {},
     "output_type": "execute_result"
    }
   ],
   "source": [
    "Tf(R = Rz(ph)) * Tf(R = Rz(-sympy.pi/2)) * Tf(R = Rz(th)) * Tf(p = [0, 0, d]) * Tf(p = [a, 0, 0]) * Tf(R = Rx(al))"
   ]
  },
  {
   "cell_type": "code",
   "execution_count": 11,
   "id": "f9a2985b",
   "metadata": {},
   "outputs": [
    {
     "data": {
      "text/latex": [
       "$\\displaystyle \\left[\\begin{matrix}- \\sin{\\left(\\phi \\right)} \\cos{\\left(\\theta \\right)} - \\sin{\\left(\\theta \\right)} \\cos{\\left(\\phi \\right)} & \\left(\\sin{\\left(\\phi \\right)} \\sin{\\left(\\theta \\right)} - \\cos{\\left(\\phi \\right)} \\cos{\\left(\\theta \\right)}\\right) \\cos{\\left(\\alpha \\right)} & - \\left(\\sin{\\left(\\phi \\right)} \\sin{\\left(\\theta \\right)} - \\cos{\\left(\\phi \\right)} \\cos{\\left(\\theta \\right)}\\right) \\sin{\\left(\\alpha \\right)} & a \\left(- \\sin{\\left(\\phi \\right)} \\cos{\\left(\\theta \\right)} - \\sin{\\left(\\theta \\right)} \\cos{\\left(\\phi \\right)}\\right)\\\\- \\sin{\\left(\\phi \\right)} \\sin{\\left(\\theta \\right)} + \\cos{\\left(\\phi \\right)} \\cos{\\left(\\theta \\right)} & \\left(- \\sin{\\left(\\phi \\right)} \\cos{\\left(\\theta \\right)} - \\sin{\\left(\\theta \\right)} \\cos{\\left(\\phi \\right)}\\right) \\cos{\\left(\\alpha \\right)} & - \\left(- \\sin{\\left(\\phi \\right)} \\cos{\\left(\\theta \\right)} - \\sin{\\left(\\theta \\right)} \\cos{\\left(\\phi \\right)}\\right) \\sin{\\left(\\alpha \\right)} & a \\left(- \\sin{\\left(\\phi \\right)} \\sin{\\left(\\theta \\right)} + \\cos{\\left(\\phi \\right)} \\cos{\\left(\\theta \\right)}\\right)\\\\0 & \\sin{\\left(\\alpha \\right)} & \\cos{\\left(\\alpha \\right)} & d\\\\0 & 0 & 0 & 1\\end{matrix}\\right]$"
      ],
      "text/plain": [
       "Matrix([\n",
       "[-sin(\\phi)*cos(\\theta) - sin(\\theta)*cos(\\phi),  (sin(\\phi)*sin(\\theta) - cos(\\phi)*cos(\\theta))*cos(\\alpha),  -(sin(\\phi)*sin(\\theta) - cos(\\phi)*cos(\\theta))*sin(\\alpha), a*(-sin(\\phi)*cos(\\theta) - sin(\\theta)*cos(\\phi))],\n",
       "[-sin(\\phi)*sin(\\theta) + cos(\\phi)*cos(\\theta), (-sin(\\phi)*cos(\\theta) - sin(\\theta)*cos(\\phi))*cos(\\alpha), -(-sin(\\phi)*cos(\\theta) - sin(\\theta)*cos(\\phi))*sin(\\alpha), a*(-sin(\\phi)*sin(\\theta) + cos(\\phi)*cos(\\theta))],\n",
       "[                                             0,                                                  sin(\\alpha),                                                   cos(\\alpha),                                                  d],\n",
       "[                                             0,                                                            0,                                                             0,                                                  1]])"
      ]
     },
     "execution_count": 11,
     "metadata": {},
     "output_type": "execute_result"
    }
   ],
   "source": [
    "Tf(R = Rz(ph)) * Tf(R = Rz(sympy.pi/2)) * Tf(R = Rz(th)) * Tf(p = [0, 0, d]) * Tf(p = [a, 0, 0]) * Tf(R = Rx(al))"
   ]
  },
  {
   "cell_type": "code",
   "execution_count": 12,
   "id": "0b3588b2",
   "metadata": {},
   "outputs": [
    {
     "data": {
      "text/latex": [
       "$\\displaystyle \\left[\\begin{matrix}\\cos{\\left(\\theta \\right)} & - \\sin{\\left(\\theta \\right)} \\cos{\\left(\\alpha \\right)} & \\sin{\\left(\\alpha \\right)} \\sin{\\left(\\theta \\right)} & a \\cos{\\left(\\theta \\right)}\\\\\\sin{\\left(\\theta \\right)} & \\cos{\\left(\\alpha \\right)} \\cos{\\left(\\theta \\right)} & - \\sin{\\left(\\alpha \\right)} \\cos{\\left(\\theta \\right)} & a \\sin{\\left(\\theta \\right)}\\\\0 & \\sin{\\left(\\alpha \\right)} & \\cos{\\left(\\alpha \\right)} & d\\\\0 & 0 & 0 & 1\\end{matrix}\\right]$"
      ],
      "text/plain": [
       "Matrix([\n",
       "[cos(\\theta), -sin(\\theta)*cos(\\alpha),  sin(\\alpha)*sin(\\theta), a*cos(\\theta)],\n",
       "[sin(\\theta),  cos(\\alpha)*cos(\\theta), -sin(\\alpha)*cos(\\theta), a*sin(\\theta)],\n",
       "[          0,              sin(\\alpha),              cos(\\alpha),             d],\n",
       "[          0,                        0,                        0,             1]])"
      ]
     },
     "execution_count": 12,
     "metadata": {},
     "output_type": "execute_result"
    }
   ],
   "source": [
    "Tm([al, a, d, th])"
   ]
  },
  {
   "cell_type": "code",
   "execution_count": 13,
   "id": "bb0c74b5",
   "metadata": {},
   "outputs": [],
   "source": [
    "def Tj(joint_type, ij):\n",
    "    i, j = ij\n",
    "    if joint_type == 1:\n",
    "        theta_i_j = sympy.symbols(r'\\theta_{('+str(i)+'\\,'+str(j)+r')}')\n",
    "        alpha_i_j = sympy.symbols(r'\\alpha_{('+str(i)+'\\,'+str(j)+r')}')\n",
    "        a_i_j = sympy.symbols(r'a_{('+str(i)+'\\,'+str(j)+r')}')\n",
    "        l_i_j = sympy.symbols(r'l_{('+str(i)+'\\,'+str(j)+r')}')\n",
    "        Tij = Tf(R = Rz(theta_i_j)) * Tf(p = [0, 0, l_i_j]) * Tf(p = [a_i_j, 0, 0]) * Tf(R = Rx(alpha_i_j))\n",
    "    elif joint_type == 2:\n",
    "        beta_i_j = sympy.symbols(r'\\beta_{('+str(i)+'\\,'+str(j)+r')}')\n",
    "        alpha_i_j = sympy.symbols(r'\\alpha_{('+str(i)+'\\,'+str(j)+r')}')\n",
    "        a_i_j = sympy.symbols(r'a_{('+str(i)+'\\,'+str(j)+r')}')\n",
    "        d_i_j = sympy.symbols(r'd_{('+str(i)+'\\,'+str(j)+r')}')\n",
    "        Tij = Tf(R = Rz(beta_i_j)) * Tf(p = [0, 0, d_i_j]) * Tf(p = [a_i_j, 0, 0]) * Tf(R = Rx(alpha_i_j))\n",
    "    elif joint_type == 3:\n",
    "        theta_i_j = sympy.symbols(r'\\theta_{('+str(i)+'\\,'+str(j)+r')}')\n",
    "        alpha_i_j = sympy.symbols(r'\\alpha_{('+str(i)+'\\,'+str(j)+r')}')\n",
    "        a_i_j = sympy.symbols(r'a_{('+str(i)+'\\,'+str(j)+r')}')\n",
    "        d_i_j = sympy.symbols(r'd_{('+str(i)+'\\,'+str(j)+r')}')\n",
    "        l_i_j = sympy.symbols(r'l_{('+str(i)+'\\,'+str(j)+r')}')\n",
    "        Tij = Tf(p = [0, 0, d_i_j]) * Tf(R = Rz(theta_i_j)) * Tf(p = [0, 0, l_i_j]) * Tf(p = [a_i_j, 0, 0]) * Tf(R = Rx(alpha_i_j))\n",
    "    elif joint_type == 5:\n",
    "        theta_i_j = sympy.symbols(r'\\theta_{('+str(i)+'\\,'+str(j)+r')}')\n",
    "        phi_i_j = sympy.symbols(r'\\phi_{('+str(i)+'\\,'+str(j)+r')}')\n",
    "        alpha_i_j = sympy.symbols(r'\\alpha_{('+str(i)+'\\,'+str(j)+r')}')\n",
    "        a_i_j = sympy.symbols(r'a_{('+str(i)+'\\,'+str(j)+r')}')\n",
    "        l_i_j = sympy.symbols(r'd_{('+str(i)+'\\,'+str(j)+r')}')\n",
    "        Tij = Tf(R = Rz(phi_i_j)) * Tf(R = Rx(-sympy.pi/2)) * Tf(R = Rz(theta_i_j)) * Tf(p = [0, 0, l_i_j]) * Tf(p = [a_i_j, 0, 0]) * Tf(R = Rx(alpha_i_j))\n",
    "\n",
    "\n",
    "    return Tij"
   ]
  },
  {
   "cell_type": "code",
   "execution_count": 14,
   "id": "3c1543b2",
   "metadata": {},
   "outputs": [],
   "source": [
    "joint_type = 5\n",
    "ij = [2,3]\n",
    "\n",
    "i,j = ij\n",
    "theta_i_j = sympy.symbols(r'\\theta_{('+str(i)+'\\,'+str(j)+r')}')"
   ]
  },
  {
   "cell_type": "code",
   "execution_count": 15,
   "id": "20b55efe",
   "metadata": {},
   "outputs": [
    {
     "data": {
      "text/latex": [
       "$\\displaystyle \\left[\\begin{matrix}\\cos{\\left(\\phi_{(2,3)} \\right)} \\cos{\\left(\\theta_{(2,3)} \\right)} & - \\sin{\\left(\\alpha_{(2,3)} \\right)} \\sin{\\left(\\phi_{(2,3)} \\right)} - \\sin{\\left(\\theta_{(2,3)} \\right)} \\cos{\\left(\\alpha_{(2,3)} \\right)} \\cos{\\left(\\phi_{(2,3)} \\right)} & \\sin{\\left(\\alpha_{(2,3)} \\right)} \\sin{\\left(\\theta_{(2,3)} \\right)} \\cos{\\left(\\phi_{(2,3)} \\right)} - \\sin{\\left(\\phi_{(2,3)} \\right)} \\cos{\\left(\\alpha_{(2,3)} \\right)} & a_{(2,3)} \\cos{\\left(\\phi_{(2,3)} \\right)} \\cos{\\left(\\theta_{(2,3)} \\right)} - d_{(2,3)} \\sin{\\left(\\phi_{(2,3)} \\right)}\\\\\\sin{\\left(\\phi_{(2,3)} \\right)} \\cos{\\left(\\theta_{(2,3)} \\right)} & \\sin{\\left(\\alpha_{(2,3)} \\right)} \\cos{\\left(\\phi_{(2,3)} \\right)} - \\sin{\\left(\\phi_{(2,3)} \\right)} \\sin{\\left(\\theta_{(2,3)} \\right)} \\cos{\\left(\\alpha_{(2,3)} \\right)} & \\sin{\\left(\\alpha_{(2,3)} \\right)} \\sin{\\left(\\phi_{(2,3)} \\right)} \\sin{\\left(\\theta_{(2,3)} \\right)} + \\cos{\\left(\\alpha_{(2,3)} \\right)} \\cos{\\left(\\phi_{(2,3)} \\right)} & a_{(2,3)} \\sin{\\left(\\phi_{(2,3)} \\right)} \\cos{\\left(\\theta_{(2,3)} \\right)} + d_{(2,3)} \\cos{\\left(\\phi_{(2,3)} \\right)}\\\\- \\sin{\\left(\\theta_{(2,3)} \\right)} & - \\cos{\\left(\\alpha_{(2,3)} \\right)} \\cos{\\left(\\theta_{(2,3)} \\right)} & \\sin{\\left(\\alpha_{(2,3)} \\right)} \\cos{\\left(\\theta_{(2,3)} \\right)} & - a_{(2,3)} \\sin{\\left(\\theta_{(2,3)} \\right)}\\\\0 & 0 & 0 & 1\\end{matrix}\\right]$"
      ],
      "text/plain": [
       "Matrix([\n",
       "[cos(\\phi_{(2,3)})*cos(\\theta_{(2,3)}), -sin(\\alpha_{(2,3)})*sin(\\phi_{(2,3)}) - sin(\\theta_{(2,3)})*cos(\\alpha_{(2,3)})*cos(\\phi_{(2,3)}), sin(\\alpha_{(2,3)})*sin(\\theta_{(2,3)})*cos(\\phi_{(2,3)}) - sin(\\phi_{(2,3)})*cos(\\alpha_{(2,3)}), a_{(2,3)}*cos(\\phi_{(2,3)})*cos(\\theta_{(2,3)}) - d_{(2,3)}*sin(\\phi_{(2,3)})],\n",
       "[sin(\\phi_{(2,3)})*cos(\\theta_{(2,3)}),  sin(\\alpha_{(2,3)})*cos(\\phi_{(2,3)}) - sin(\\phi_{(2,3)})*sin(\\theta_{(2,3)})*cos(\\alpha_{(2,3)}), sin(\\alpha_{(2,3)})*sin(\\phi_{(2,3)})*sin(\\theta_{(2,3)}) + cos(\\alpha_{(2,3)})*cos(\\phi_{(2,3)}), a_{(2,3)}*sin(\\phi_{(2,3)})*cos(\\theta_{(2,3)}) + d_{(2,3)}*cos(\\phi_{(2,3)})],\n",
       "[                 -sin(\\theta_{(2,3)}),                                                           -cos(\\alpha_{(2,3)})*cos(\\theta_{(2,3)}),                                                           sin(\\alpha_{(2,3)})*cos(\\theta_{(2,3)}),                                                -a_{(2,3)}*sin(\\theta_{(2,3)})],\n",
       "[                                    0,                                                                                                  0,                                                                                                 0,                                                                             1]])"
      ]
     },
     "execution_count": 15,
     "metadata": {},
     "output_type": "execute_result"
    }
   ],
   "source": [
    "Tj(joint_type, ij)"
   ]
  },
  {
   "cell_type": "code",
   "execution_count": 16,
   "id": "35632874",
   "metadata": {},
   "outputs": [
    {
     "data": {
      "text/latex": [
       "$\\displaystyle \\left[\\begin{matrix}\\cos{\\left(\\theta \\right)} & - \\sin{\\left(\\theta \\right)} \\cos{\\left(\\alpha \\right)} & \\sin{\\left(\\alpha \\right)} \\sin{\\left(\\theta \\right)} & a \\cos{\\left(\\theta \\right)}\\\\\\sin{\\left(\\theta \\right)} & \\cos{\\left(\\alpha \\right)} \\cos{\\left(\\theta \\right)} & - \\sin{\\left(\\alpha \\right)} \\cos{\\left(\\theta \\right)} & a \\sin{\\left(\\theta \\right)}\\\\0 & \\sin{\\left(\\alpha \\right)} & \\cos{\\left(\\alpha \\right)} & d\\\\0 & 0 & 0 & 1\\end{matrix}\\right]$"
      ],
      "text/plain": [
       "Matrix([\n",
       "[cos(\\theta), -sin(\\theta)*cos(\\alpha),  sin(\\alpha)*sin(\\theta), a*cos(\\theta)],\n",
       "[sin(\\theta),  cos(\\alpha)*cos(\\theta), -sin(\\alpha)*cos(\\theta), a*sin(\\theta)],\n",
       "[          0,              sin(\\alpha),              cos(\\alpha),             d],\n",
       "[          0,                        0,                        0,             1]])"
      ]
     },
     "execution_count": 16,
     "metadata": {},
     "output_type": "execute_result"
    }
   ],
   "source": [
    "Tf(R = Rz(th)) * Tf(p = [0, 0, d]) * Tf(p = [a, 0, 0]) * Tf(R = Rx(al))"
   ]
  },
  {
   "cell_type": "code",
   "execution_count": 17,
   "id": "47c4e13d",
   "metadata": {},
   "outputs": [
    {
     "data": {
      "text/latex": [
       "$\\displaystyle \\left[\\begin{matrix}1 & 0 & 0 & 0\\\\0 & 1 & 0 & 0\\\\0 & 0 & 1 & d\\\\0 & 0 & 0 & 1\\end{matrix}\\right]$"
      ],
      "text/plain": [
       "Matrix([\n",
       "[1, 0, 0, 0],\n",
       "[0, 1, 0, 0],\n",
       "[0, 0, 1, d],\n",
       "[0, 0, 0, 1]])"
      ]
     },
     "execution_count": 17,
     "metadata": {},
     "output_type": "execute_result"
    }
   ],
   "source": [
    "Tf(p = [0, 0, d])"
   ]
  },
  {
   "cell_type": "code",
   "execution_count": 18,
   "id": "755d4b88",
   "metadata": {},
   "outputs": [
    {
     "data": {
      "text/latex": [
       "$\\displaystyle \\left[\\begin{matrix}\\cos{\\left(\\theta \\right)} & - \\sin{\\left(\\theta \\right)} \\cos{\\left(\\alpha \\right)} & \\sin{\\left(\\alpha \\right)} \\sin{\\left(\\theta \\right)} & a \\cos{\\left(\\theta \\right)} + d \\sin{\\left(\\alpha \\right)} \\sin{\\left(\\theta \\right)}\\\\\\sin{\\left(\\theta \\right)} & \\cos{\\left(\\alpha \\right)} \\cos{\\left(\\theta \\right)} & - \\sin{\\left(\\alpha \\right)} \\cos{\\left(\\theta \\right)} & a \\sin{\\left(\\theta \\right)} - d \\sin{\\left(\\alpha \\right)} \\cos{\\left(\\theta \\right)}\\\\0 & \\sin{\\left(\\alpha \\right)} & \\cos{\\left(\\alpha \\right)} & d \\cos{\\left(\\alpha \\right)} + d\\\\0 & 0 & 0 & 1\\end{matrix}\\right]$"
      ],
      "text/plain": [
       "Matrix([\n",
       "[cos(\\theta), -sin(\\theta)*cos(\\alpha),  sin(\\alpha)*sin(\\theta), a*cos(\\theta) + d*sin(\\alpha)*sin(\\theta)],\n",
       "[sin(\\theta),  cos(\\alpha)*cos(\\theta), -sin(\\alpha)*cos(\\theta), a*sin(\\theta) - d*sin(\\alpha)*cos(\\theta)],\n",
       "[          0,              sin(\\alpha),              cos(\\alpha),                         d*cos(\\alpha) + d],\n",
       "[          0,                        0,                        0,                                         1]])"
      ]
     },
     "execution_count": 18,
     "metadata": {},
     "output_type": "execute_result"
    }
   ],
   "source": [
    "Tf(R = Rz(th)) * Tf(p = [0, 0, d]) * Tf(p = [a, 0, 0]) * Tf(R = Rx(al)) * Tf(p = [0, 0, d])"
   ]
  },
  {
   "cell_type": "code",
   "execution_count": 19,
   "id": "f0168bd8",
   "metadata": {},
   "outputs": [
    {
     "data": {
      "text/latex": [
       "$\\displaystyle \\left[\\begin{matrix}\\cos{\\left(\\theta \\right)} & - \\sin{\\left(\\theta \\right)} \\cos{\\left(\\alpha \\right)} & \\sin{\\left(\\alpha \\right)} \\sin{\\left(\\theta \\right)} & a \\cos{\\left(\\theta \\right)}\\\\\\sin{\\left(\\theta \\right)} & \\cos{\\left(\\alpha \\right)} \\cos{\\left(\\theta \\right)} & - \\sin{\\left(\\alpha \\right)} \\cos{\\left(\\theta \\right)} & a \\sin{\\left(\\theta \\right)}\\\\0 & \\sin{\\left(\\alpha \\right)} & \\cos{\\left(\\alpha \\right)} & 2 d\\\\0 & 0 & 0 & 1\\end{matrix}\\right]$"
      ],
      "text/plain": [
       "Matrix([\n",
       "[cos(\\theta), -sin(\\theta)*cos(\\alpha),  sin(\\alpha)*sin(\\theta), a*cos(\\theta)],\n",
       "[sin(\\theta),  cos(\\alpha)*cos(\\theta), -sin(\\alpha)*cos(\\theta), a*sin(\\theta)],\n",
       "[          0,              sin(\\alpha),              cos(\\alpha),           2*d],\n",
       "[          0,                        0,                        0,             1]])"
      ]
     },
     "execution_count": 19,
     "metadata": {},
     "output_type": "execute_result"
    }
   ],
   "source": [
    "Tf(p = [0, 0, d]) * Tf(R = Rz(th)) * Tf(p = [0, 0, d]) * Tf(p = [a, 0, 0]) * Tf(R = Rx(al))"
   ]
  },
  {
   "cell_type": "code",
   "execution_count": null,
   "id": "6c4127e2",
   "metadata": {},
   "outputs": [],
   "source": []
  }
 ],
 "metadata": {
  "kernelspec": {
   "display_name": "Python 3 (ipykernel)",
   "language": "python",
   "name": "python3"
  },
  "language_info": {
   "codemirror_mode": {
    "name": "ipython",
    "version": 3
   },
   "file_extension": ".py",
   "mimetype": "text/x-python",
   "name": "python",
   "nbconvert_exporter": "python",
   "pygments_lexer": "ipython3",
   "version": "3.11.5"
  }
 },
 "nbformat": 4,
 "nbformat_minor": 5
}
