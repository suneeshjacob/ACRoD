{
 "cells": [
  {
   "cell_type": "markdown",
   "id": "178e8641-4a34-4c7c-81c8-532759088ab9",
   "metadata": {
    "tags": []
   },
   "source": [
    "# Formulation of Jacobian for RSSR-SSR spatial parallel manipulator as an example"
   ]
  },
  {
   "cell_type": "markdown",
   "id": "5c9d3f8b-6819-417b-8d61-a0136330b8d9",
   "metadata": {},
   "source": [
    "## Figure"
   ]
  },
  {
   "cell_type": "markdown",
   "id": "21d4502f-e08c-4b58-bcf6-697aa0b70202",
   "metadata": {
    "tags": []
   },
   "source": [
    "![RSSR-SSR spatial parallel manipulator](../../images/RSSRSSR.png \"RSSR-SSR spatial parallel manipulator\")"
   ]
  },
  {
   "cell_type": "markdown",
   "id": "5f65b294-cfc0-4cb0-95f4-a81236f2b02a",
   "metadata": {},
   "source": [
    "## Jacobian"
   ]
  },
  {
   "cell_type": "markdown",
   "id": "c2eccd03-d5a0-473b-afc4-5e85156391fc",
   "metadata": {},
   "source": [
    "The topological information of a robot is to be specified by using its robot-topology matrix, as defined [here](../../../../misc/Robot_Topology_Matrix.md). For RSSR-SSR spatial parallel manipulator shown above, the robot topology matrix is given by"
   ]
  },
  {
   "cell_type": "markdown",
   "id": "ae66ec7f-d0f7-4138-bc84-8571a2204a53",
   "metadata": {},
   "source": [
    "$$\\left[\\begin{matrix}9 & 1 & 1 & 0 & 1 & 0\\\\\\\\1 & 9 & 0 & 0 & 0 & 4\\\\\\\\1 & 0 & 9 & 4 & 0 & 0\\\\\\\\0 & 0 & 0 & 9 & 0 & 4\\\\\\\\0 & 0 & 0 & 0 & 9 & 4\\\\\\\\0 & 0 & 0 & 0 & 0 & 9\\end{matrix}\\right]$$"
   ]
  },
  {
   "cell_type": "markdown",
   "id": "1cc8d43e-9b8a-474e-b851-ced1676db736",
   "metadata": {},
   "source": [
    "### Importing required modules"
   ]
  },
  {
   "cell_type": "markdown",
   "id": "2434f958-ddb6-4bdb-9fbd-1c56158b6b7a",
   "metadata": {
    "tags": []
   },
   "source": [
    "The corresponding Jacobian function can be formulated as follows."
   ]
  },
  {
   "cell_type": "code",
   "execution_count": 1,
   "id": "08909c2f-e962-47f9-a8e7-0a7c59171d45",
   "metadata": {
    "tags": []
   },
   "outputs": [],
   "source": [
    "from acrod.jacobian import Jacobian\n",
    "from numpy import array"
   ]
  },
  {
   "cell_type": "markdown",
   "id": "f70765bb-6f03-4ed6-acfe-284d694db8c2",
   "metadata": {},
   "source": [
    "### Specifying Robot-Topology matrix and initialising jacobian class"
   ]
  },
  {
   "cell_type": "markdown",
   "id": "bccb8d9c-b6b1-492d-8234-1b4036433fbb",
   "metadata": {},
   "source": [
    "The robot-topology matrix for RSSR-SSR spatial parallel manipulator is defined and jacobian information is processed via the imported jacobian class as follows."
   ]
  },
  {
   "cell_type": "code",
   "execution_count": 2,
   "id": "574ce738-aa6a-444b-b331-4cd4414acace",
   "metadata": {
    "tags": []
   },
   "outputs": [],
   "source": [
    "M = array(\n",
    "        [[9, 1, 1, 0, 1, 0],\n",
    "         [1, 9, 0, 0, 0, 4],\n",
    "         [1, 0, 9, 4, 0, 0],\n",
    "         [0, 0, 0, 9, 0, 4],\n",
    "         [0, 0, 0, 0, 9, 4],\n",
    "         [0, 0, 0, 0, 0, 9]]\n",
    "    )\n",
    "jac = Jacobian(M)"
   ]
  },
  {
   "cell_type": "markdown",
   "id": "97b74dfb-d6f9-4688-918c-dc7bfd0923ba",
   "metadata": {},
   "source": [
    "### Generation of Jacobian function"
   ]
  },
  {
   "cell_type": "markdown",
   "id": "7576e28d-41ed-4896-8565-8a4e2f117d72",
   "metadata": {
    "tags": []
   },
   "source": [
    "Jacobian function is generated as shown below."
   ]
  },
  {
   "cell_type": "code",
   "execution_count": 3,
   "id": "7a6c5bcf-373d-4816-9bbb-aa184afd1caa",
   "metadata": {
    "tags": []
   },
   "outputs": [],
   "source": [
    "jacobian_function = jac.get_jacobian_function()"
   ]
  },
  {
   "cell_type": "markdown",
   "id": "39935544-fffc-4655-a081-c7df8502db0f",
   "metadata": {},
   "source": [
    "### Various attributes of the jacobian object"
   ]
  },
  {
   "cell_type": "markdown",
   "id": "a88ed41c-0741-48c9-80d4-4e210ea7ac3e",
   "metadata": {},
   "source": [
    "In the process of generating the above jacobian function, other attributes of the jacobian object also are updated. Symbolic Jacobian matrices can be extracted from the attributes. Since this is a non-serial robot, there would be four matrices required to compute the Jacobian, which are $J_a$, $J_p$, $A_a$ and $A_p$. These can be extracted by the attributes `Ja`, `Jp`, `Aa` and `Ap`, respectively, as shown below."
   ]
  },
  {
   "cell_type": "code",
   "execution_count": 4,
   "id": "1d18978c-3a4e-4bef-bb1a-32f21d1fc908",
   "metadata": {
    "tags": []
   },
   "outputs": [
    {
     "data": {
      "text/latex": [
       "$\\displaystyle \\left[\\begin{matrix}- \\left(a_{y} - r_{(1,2)y}\\right) \\cos{\\left(\\beta_{(1,2)} \\right)} + \\left(a_{z} - r_{(1,2)z}\\right) \\sin{\\left(\\beta_{(1,2)} \\right)} \\sin{\\left(\\phi_{(1,2)} \\right)} & 0\\\\\\left(a_{x} - r_{(1,2)x}\\right) \\cos{\\left(\\beta_{(1,2)} \\right)} - \\left(a_{z} - r_{(1,2)z}\\right) \\sin{\\left(\\beta_{(1,2)} \\right)} \\cos{\\left(\\phi_{(1,2)} \\right)} & 0\\\\- \\left(a_{x} - r_{(1,2)x}\\right) \\sin{\\left(\\beta_{(1,2)} \\right)} \\sin{\\left(\\phi_{(1,2)} \\right)} + \\left(a_{y} - r_{(1,2)y}\\right) \\sin{\\left(\\beta_{(1,2)} \\right)} \\cos{\\left(\\phi_{(1,2)} \\right)} & 0\\\\\\sin{\\left(\\beta_{(1,2)} \\right)} \\cos{\\left(\\phi_{(1,2)} \\right)} & 0\\\\\\sin{\\left(\\beta_{(1,2)} \\right)} \\sin{\\left(\\phi_{(1,2)} \\right)} & 0\\\\\\cos{\\left(\\beta_{(1,2)} \\right)} & 0\\end{matrix}\\right]$"
      ],
      "text/plain": [
       "Matrix([\n",
       "[                  -(a_y - r_{(1,2)y})*cos(\\beta_{(1,2)}) + (a_z - r_{(1,2)z})*sin(\\beta_{(1,2)})*sin(\\phi_{(1,2)}), 0],\n",
       "[                   (a_x - r_{(1,2)x})*cos(\\beta_{(1,2)}) - (a_z - r_{(1,2)z})*sin(\\beta_{(1,2)})*cos(\\phi_{(1,2)}), 0],\n",
       "[-(a_x - r_{(1,2)x})*sin(\\beta_{(1,2)})*sin(\\phi_{(1,2)}) + (a_y - r_{(1,2)y})*sin(\\beta_{(1,2)})*cos(\\phi_{(1,2)}), 0],\n",
       "[                                                                              sin(\\beta_{(1,2)})*cos(\\phi_{(1,2)}), 0],\n",
       "[                                                                              sin(\\beta_{(1,2)})*sin(\\phi_{(1,2)}), 0],\n",
       "[                                                                                                cos(\\beta_{(1,2)}), 0]])"
      ]
     },
     "execution_count": 4,
     "metadata": {},
     "output_type": "execute_result"
    }
   ],
   "source": [
    "symbolic_Ja = jac.Ja\n",
    "symbolic_Ja"
   ]
  },
  {
   "cell_type": "code",
   "execution_count": 5,
   "id": "969d5a6c-6fd4-4b72-85c3-cf5b33c63491",
   "metadata": {
    "tags": []
   },
   "outputs": [
    {
     "data": {
      "text/latex": [
       "$\\displaystyle \\left[\\begin{array}{ccccccccccccc}0 & 0 & a_{z} - r_{(2,6)z} & - a_{y} + r_{(2,6)y} & 0 & 0 & 0 & 0 & 0 & 0 & 0 & 0 & 0\\\\0 & - a_{z} + r_{(2,6)z} & 0 & a_{x} - r_{(2,6)x} & 0 & 0 & 0 & 0 & 0 & 0 & 0 & 0 & 0\\\\0 & a_{y} - r_{(2,6)y} & - a_{x} + r_{(2,6)x} & 0 & 0 & 0 & 0 & 0 & 0 & 0 & 0 & 0 & 0\\\\0 & 1 & 0 & 0 & 0 & 0 & 0 & 0 & 0 & 0 & 0 & 0 & 0\\\\0 & 0 & 1 & 0 & 0 & 0 & 0 & 0 & 0 & 0 & 0 & 0 & 0\\\\0 & 0 & 0 & 1 & 0 & 0 & 0 & 0 & 0 & 0 & 0 & 0 & 0\\end{array}\\right]$"
      ],
      "text/plain": [
       "Matrix([\n",
       "[0,                 0,  a_z - r_{(2,6)z}, -a_y + r_{(2,6)y}, 0, 0, 0, 0, 0, 0, 0, 0, 0],\n",
       "[0, -a_z + r_{(2,6)z},                 0,  a_x - r_{(2,6)x}, 0, 0, 0, 0, 0, 0, 0, 0, 0],\n",
       "[0,  a_y - r_{(2,6)y}, -a_x + r_{(2,6)x},                 0, 0, 0, 0, 0, 0, 0, 0, 0, 0],\n",
       "[0,                 1,                 0,                 0, 0, 0, 0, 0, 0, 0, 0, 0, 0],\n",
       "[0,                 0,                 1,                 0, 0, 0, 0, 0, 0, 0, 0, 0, 0],\n",
       "[0,                 0,                 0,                 1, 0, 0, 0, 0, 0, 0, 0, 0, 0]])"
      ]
     },
     "execution_count": 5,
     "metadata": {},
     "output_type": "execute_result"
    }
   ],
   "source": [
    "symbolic_Jp = jac.Jp\n",
    "symbolic_Jp"
   ]
  },
  {
   "cell_type": "code",
   "execution_count": 6,
   "id": "133b34cb-330c-45a8-8765-c832dd728653",
   "metadata": {
    "tags": []
   },
   "outputs": [
    {
     "data": {
      "text/latex": [
       "$\\displaystyle \\left[\\begin{matrix}\\left(a_{y} - r_{(1,2)y}\\right) \\cos{\\left(\\beta_{(1,2)} \\right)} - \\left(a_{z} - r_{(1,2)z}\\right) \\sin{\\left(\\beta_{(1,2)} \\right)} \\sin{\\left(\\phi_{(1,2)} \\right)} & 0\\\\- \\left(a_{x} - r_{(1,2)x}\\right) \\cos{\\left(\\beta_{(1,2)} \\right)} + \\left(a_{z} - r_{(1,2)z}\\right) \\sin{\\left(\\beta_{(1,2)} \\right)} \\cos{\\left(\\phi_{(1,2)} \\right)} & 0\\\\\\left(a_{x} - r_{(1,2)x}\\right) \\sin{\\left(\\beta_{(1,2)} \\right)} \\sin{\\left(\\phi_{(1,2)} \\right)} - \\left(a_{y} - r_{(1,2)y}\\right) \\sin{\\left(\\beta_{(1,2)} \\right)} \\cos{\\left(\\phi_{(1,2)} \\right)} & 0\\\\\\left(a_{y} - r_{(1,2)y}\\right) \\cos{\\left(\\beta_{(1,2)} \\right)} - \\left(a_{z} - r_{(1,2)z}\\right) \\sin{\\left(\\beta_{(1,2)} \\right)} \\sin{\\left(\\phi_{(1,2)} \\right)} & - \\left(a_{y} - r_{(1,3)y}\\right) \\cos{\\left(\\beta_{(1,3)} \\right)} + \\left(a_{z} - r_{(1,3)z}\\right) \\sin{\\left(\\beta_{(1,3)} \\right)} \\sin{\\left(\\phi_{(1,3)} \\right)}\\\\- \\left(a_{x} - r_{(1,2)x}\\right) \\cos{\\left(\\beta_{(1,2)} \\right)} + \\left(a_{z} - r_{(1,2)z}\\right) \\sin{\\left(\\beta_{(1,2)} \\right)} \\cos{\\left(\\phi_{(1,2)} \\right)} & \\left(a_{x} - r_{(1,3)x}\\right) \\cos{\\left(\\beta_{(1,3)} \\right)} - \\left(a_{z} - r_{(1,3)z}\\right) \\sin{\\left(\\beta_{(1,3)} \\right)} \\cos{\\left(\\phi_{(1,3)} \\right)}\\\\\\left(a_{x} - r_{(1,2)x}\\right) \\sin{\\left(\\beta_{(1,2)} \\right)} \\sin{\\left(\\phi_{(1,2)} \\right)} - \\left(a_{y} - r_{(1,2)y}\\right) \\sin{\\left(\\beta_{(1,2)} \\right)} \\cos{\\left(\\phi_{(1,2)} \\right)} & - \\left(a_{x} - r_{(1,3)x}\\right) \\sin{\\left(\\beta_{(1,3)} \\right)} \\sin{\\left(\\phi_{(1,3)} \\right)} + \\left(a_{y} - r_{(1,3)y}\\right) \\sin{\\left(\\beta_{(1,3)} \\right)} \\cos{\\left(\\phi_{(1,3)} \\right)}\\\\- \\sin{\\left(\\beta_{(1,2)} \\right)} \\cos{\\left(\\phi_{(1,2)} \\right)} & 0\\\\- \\sin{\\left(\\beta_{(1,2)} \\right)} \\sin{\\left(\\phi_{(1,2)} \\right)} & 0\\\\- \\cos{\\left(\\beta_{(1,2)} \\right)} & 0\\\\- \\sin{\\left(\\beta_{(1,2)} \\right)} \\cos{\\left(\\phi_{(1,2)} \\right)} & \\sin{\\left(\\beta_{(1,3)} \\right)} \\cos{\\left(\\phi_{(1,3)} \\right)}\\\\- \\sin{\\left(\\beta_{(1,2)} \\right)} \\sin{\\left(\\phi_{(1,2)} \\right)} & \\sin{\\left(\\beta_{(1,3)} \\right)} \\sin{\\left(\\phi_{(1,3)} \\right)}\\\\- \\cos{\\left(\\beta_{(1,2)} \\right)} & \\cos{\\left(\\beta_{(1,3)} \\right)}\\\\0 & \\left(r_{(3,4)x} - r_{(4,6)x}\\right) \\sin{\\left(\\beta_{(1,3)} \\right)} \\cos{\\left(\\phi_{(1,3)} \\right)} + \\left(r_{(3,4)y} - r_{(4,6)y}\\right) \\sin{\\left(\\beta_{(1,3)} \\right)} \\sin{\\left(\\phi_{(1,3)} \\right)} + \\left(r_{(3,4)z} - r_{(4,6)z}\\right) \\cos{\\left(\\beta_{(1,3)} \\right)}\\end{matrix}\\right]$"
      ],
      "text/plain": [
       "Matrix([\n",
       "[                  (a_y - r_{(1,2)y})*cos(\\beta_{(1,2)}) - (a_z - r_{(1,2)z})*sin(\\beta_{(1,2)})*sin(\\phi_{(1,2)}),                                                                                                                                                                              0],\n",
       "[                 -(a_x - r_{(1,2)x})*cos(\\beta_{(1,2)}) + (a_z - r_{(1,2)z})*sin(\\beta_{(1,2)})*cos(\\phi_{(1,2)}),                                                                                                                                                                              0],\n",
       "[(a_x - r_{(1,2)x})*sin(\\beta_{(1,2)})*sin(\\phi_{(1,2)}) - (a_y - r_{(1,2)y})*sin(\\beta_{(1,2)})*cos(\\phi_{(1,2)}),                                                                                                                                                                              0],\n",
       "[                  (a_y - r_{(1,2)y})*cos(\\beta_{(1,2)}) - (a_z - r_{(1,2)z})*sin(\\beta_{(1,2)})*sin(\\phi_{(1,2)}),                                                                               -(a_y - r_{(1,3)y})*cos(\\beta_{(1,3)}) + (a_z - r_{(1,3)z})*sin(\\beta_{(1,3)})*sin(\\phi_{(1,3)})],\n",
       "[                 -(a_x - r_{(1,2)x})*cos(\\beta_{(1,2)}) + (a_z - r_{(1,2)z})*sin(\\beta_{(1,2)})*cos(\\phi_{(1,2)}),                                                                                (a_x - r_{(1,3)x})*cos(\\beta_{(1,3)}) - (a_z - r_{(1,3)z})*sin(\\beta_{(1,3)})*cos(\\phi_{(1,3)})],\n",
       "[(a_x - r_{(1,2)x})*sin(\\beta_{(1,2)})*sin(\\phi_{(1,2)}) - (a_y - r_{(1,2)y})*sin(\\beta_{(1,2)})*cos(\\phi_{(1,2)}),                                                             -(a_x - r_{(1,3)x})*sin(\\beta_{(1,3)})*sin(\\phi_{(1,3)}) + (a_y - r_{(1,3)y})*sin(\\beta_{(1,3)})*cos(\\phi_{(1,3)})],\n",
       "[                                                                            -sin(\\beta_{(1,2)})*cos(\\phi_{(1,2)}),                                                                                                                                                                              0],\n",
       "[                                                                            -sin(\\beta_{(1,2)})*sin(\\phi_{(1,2)}),                                                                                                                                                                              0],\n",
       "[                                                                                              -cos(\\beta_{(1,2)}),                                                                                                                                                                              0],\n",
       "[                                                                            -sin(\\beta_{(1,2)})*cos(\\phi_{(1,2)}),                                                                                                                                           sin(\\beta_{(1,3)})*cos(\\phi_{(1,3)})],\n",
       "[                                                                            -sin(\\beta_{(1,2)})*sin(\\phi_{(1,2)}),                                                                                                                                           sin(\\beta_{(1,3)})*sin(\\phi_{(1,3)})],\n",
       "[                                                                                              -cos(\\beta_{(1,2)}),                                                                                                                                                             cos(\\beta_{(1,3)})],\n",
       "[                                                                                                                0, (r_{(3,4)x} - r_{(4,6)x})*sin(\\beta_{(1,3)})*cos(\\phi_{(1,3)}) + (r_{(3,4)y} - r_{(4,6)y})*sin(\\beta_{(1,3)})*sin(\\phi_{(1,3)}) + (r_{(3,4)z} - r_{(4,6)z})*cos(\\beta_{(1,3)})]])"
      ]
     },
     "execution_count": 6,
     "metadata": {},
     "output_type": "execute_result"
    }
   ],
   "source": [
    "symbolic_Aa = jac.Aa\n",
    "symbolic_Aa"
   ]
  },
  {
   "cell_type": "code",
   "execution_count": 7,
   "id": "005c8cc2-359e-4b99-988a-43bc0542fb87",
   "metadata": {
    "tags": []
   },
   "outputs": [
    {
     "data": {
      "text/latex": [
       "$\\displaystyle \\left[\\begin{array}{ccccccccccccc}- \\left(a_{y} - r_{(1,5)y}\\right) \\cos{\\left(\\beta_{(1,5)} \\right)} + \\left(a_{z} - r_{(1,5)z}\\right) \\sin{\\left(\\beta_{(1,5)} \\right)} \\sin{\\left(\\phi_{(1,5)} \\right)} & 0 & - a_{z} + r_{(2,6)z} & a_{y} - r_{(2,6)y} & 0 & 0 & 0 & 0 & 0 & 0 & 0 & a_{z} - r_{(5,6)z} & - a_{y} + r_{(5,6)y}\\\\\\left(a_{x} - r_{(1,5)x}\\right) \\cos{\\left(\\beta_{(1,5)} \\right)} - \\left(a_{z} - r_{(1,5)z}\\right) \\sin{\\left(\\beta_{(1,5)} \\right)} \\cos{\\left(\\phi_{(1,5)} \\right)} & a_{z} - r_{(2,6)z} & 0 & - a_{x} + r_{(2,6)x} & 0 & 0 & 0 & 0 & 0 & 0 & - a_{z} + r_{(5,6)z} & 0 & a_{x} - r_{(5,6)x}\\\\- \\left(a_{x} - r_{(1,5)x}\\right) \\sin{\\left(\\beta_{(1,5)} \\right)} \\sin{\\left(\\phi_{(1,5)} \\right)} + \\left(a_{y} - r_{(1,5)y}\\right) \\sin{\\left(\\beta_{(1,5)} \\right)} \\cos{\\left(\\phi_{(1,5)} \\right)} & - a_{y} + r_{(2,6)y} & a_{x} - r_{(2,6)x} & 0 & 0 & 0 & 0 & 0 & 0 & 0 & a_{y} - r_{(5,6)y} & - a_{x} + r_{(5,6)x} & 0\\\\0 & 0 & - a_{z} + r_{(2,6)z} & a_{y} - r_{(2,6)y} & 0 & a_{z} - r_{(3,4)z} & - a_{y} + r_{(3,4)y} & 0 & a_{z} - r_{(4,6)z} & - a_{y} + r_{(4,6)y} & 0 & 0 & 0\\\\0 & a_{z} - r_{(2,6)z} & 0 & - a_{x} + r_{(2,6)x} & - a_{z} + r_{(3,4)z} & 0 & a_{x} - r_{(3,4)x} & - a_{z} + r_{(4,6)z} & 0 & a_{x} - r_{(4,6)x} & 0 & 0 & 0\\\\0 & - a_{y} + r_{(2,6)y} & a_{x} - r_{(2,6)x} & 0 & a_{y} - r_{(3,4)y} & - a_{x} + r_{(3,4)x} & 0 & a_{y} - r_{(4,6)y} & - a_{x} + r_{(4,6)x} & 0 & 0 & 0 & 0\\\\\\sin{\\left(\\beta_{(1,5)} \\right)} \\cos{\\left(\\phi_{(1,5)} \\right)} & -1 & 0 & 0 & 0 & 0 & 0 & 0 & 0 & 0 & 1 & 0 & 0\\\\\\sin{\\left(\\beta_{(1,5)} \\right)} \\sin{\\left(\\phi_{(1,5)} \\right)} & 0 & -1 & 0 & 0 & 0 & 0 & 0 & 0 & 0 & 0 & 1 & 0\\\\\\cos{\\left(\\beta_{(1,5)} \\right)} & 0 & 0 & -1 & 0 & 0 & 0 & 0 & 0 & 0 & 0 & 0 & 1\\\\0 & -1 & 0 & 0 & 1 & 0 & 0 & 1 & 0 & 0 & 0 & 0 & 0\\\\0 & 0 & -1 & 0 & 0 & 1 & 0 & 0 & 1 & 0 & 0 & 0 & 0\\\\0 & 0 & 0 & -1 & 0 & 0 & 1 & 0 & 0 & 1 & 0 & 0 & 0\\\\0 & 0 & 0 & 0 & r_{(3,4)x} - r_{(4,6)x} & r_{(3,4)y} - r_{(4,6)y} & r_{(3,4)z} - r_{(4,6)z} & 0 & 0 & 0 & 0 & 0 & 0\\end{array}\\right]$"
      ],
      "text/plain": [
       "Matrix([\n",
       "[                  -(a_y - r_{(1,5)y})*cos(\\beta_{(1,5)}) + (a_z - r_{(1,5)z})*sin(\\beta_{(1,5)})*sin(\\phi_{(1,5)}),                 0, -a_z + r_{(2,6)z},  a_y - r_{(2,6)y},                       0,                       0,                       0,                 0,                 0,                 0,                 0,  a_z - r_{(5,6)z}, -a_y + r_{(5,6)y}],\n",
       "[                   (a_x - r_{(1,5)x})*cos(\\beta_{(1,5)}) - (a_z - r_{(1,5)z})*sin(\\beta_{(1,5)})*cos(\\phi_{(1,5)}),  a_z - r_{(2,6)z},                 0, -a_x + r_{(2,6)x},                       0,                       0,                       0,                 0,                 0,                 0, -a_z + r_{(5,6)z},                 0,  a_x - r_{(5,6)x}],\n",
       "[-(a_x - r_{(1,5)x})*sin(\\beta_{(1,5)})*sin(\\phi_{(1,5)}) + (a_y - r_{(1,5)y})*sin(\\beta_{(1,5)})*cos(\\phi_{(1,5)}), -a_y + r_{(2,6)y},  a_x - r_{(2,6)x},                 0,                       0,                       0,                       0,                 0,                 0,                 0,  a_y - r_{(5,6)y}, -a_x + r_{(5,6)x},                 0],\n",
       "[                                                                                                                 0,                 0, -a_z + r_{(2,6)z},  a_y - r_{(2,6)y},                       0,        a_z - r_{(3,4)z},       -a_y + r_{(3,4)y},                 0,  a_z - r_{(4,6)z}, -a_y + r_{(4,6)y},                 0,                 0,                 0],\n",
       "[                                                                                                                 0,  a_z - r_{(2,6)z},                 0, -a_x + r_{(2,6)x},       -a_z + r_{(3,4)z},                       0,        a_x - r_{(3,4)x}, -a_z + r_{(4,6)z},                 0,  a_x - r_{(4,6)x},                 0,                 0,                 0],\n",
       "[                                                                                                                 0, -a_y + r_{(2,6)y},  a_x - r_{(2,6)x},                 0,        a_y - r_{(3,4)y},       -a_x + r_{(3,4)x},                       0,  a_y - r_{(4,6)y}, -a_x + r_{(4,6)x},                 0,                 0,                 0,                 0],\n",
       "[                                                                              sin(\\beta_{(1,5)})*cos(\\phi_{(1,5)}),                -1,                 0,                 0,                       0,                       0,                       0,                 0,                 0,                 0,                 1,                 0,                 0],\n",
       "[                                                                              sin(\\beta_{(1,5)})*sin(\\phi_{(1,5)}),                 0,                -1,                 0,                       0,                       0,                       0,                 0,                 0,                 0,                 0,                 1,                 0],\n",
       "[                                                                                                cos(\\beta_{(1,5)}),                 0,                 0,                -1,                       0,                       0,                       0,                 0,                 0,                 0,                 0,                 0,                 1],\n",
       "[                                                                                                                 0,                -1,                 0,                 0,                       1,                       0,                       0,                 1,                 0,                 0,                 0,                 0,                 0],\n",
       "[                                                                                                                 0,                 0,                -1,                 0,                       0,                       1,                       0,                 0,                 1,                 0,                 0,                 0,                 0],\n",
       "[                                                                                                                 0,                 0,                 0,                -1,                       0,                       0,                       1,                 0,                 0,                 1,                 0,                 0,                 0],\n",
       "[                                                                                                                 0,                 0,                 0,                 0, r_{(3,4)x} - r_{(4,6)x}, r_{(3,4)y} - r_{(4,6)y}, r_{(3,4)z} - r_{(4,6)z},                 0,                 0,                 0,                 0,                 0,                 0]])"
      ]
     },
     "execution_count": 7,
     "metadata": {},
     "output_type": "execute_result"
    }
   ],
   "source": [
    "symbolic_Ap = jac.Ap\n",
    "symbolic_Ap"
   ]
  },
  {
   "cell_type": "markdown",
   "id": "833c496e-b4a2-419f-8ec9-b0b7e51fb2e4",
   "metadata": {},
   "source": [
    "The above matrices are based on the notations defined and described [here](../../../../misc/Notation_and_Nomenclature.md)."
   ]
  },
  {
   "cell_type": "markdown",
   "id": "4d5e2784-d2a3-436c-a6a6-b75f6d9aed5a",
   "metadata": {},
   "source": [
    "### Active joint velocities"
   ]
  },
  {
   "cell_type": "markdown",
   "id": "440411bf-ab48-40b1-bc2b-1164fa7d3ec6",
   "metadata": {},
   "source": [
    "Active joint velocities, in the corresponding order, can be viewed by running the following lines."
   ]
  },
  {
   "cell_type": "code",
   "execution_count": 8,
   "id": "fc08ee43-f813-47a5-93a5-507cf14eb2ac",
   "metadata": {
    "tags": []
   },
   "outputs": [
    {
     "data": {
      "text/latex": [
       "$\\displaystyle \\left[\\begin{matrix}\\dot{\\theta}_{(1,2)}\\\\\\dot{\\theta}_{(1,3)}\\end{matrix}\\right]$"
      ],
      "text/plain": [
       "Matrix([\n",
       "[\\dot{\\theta}_{(1,2)}],\n",
       "[\\dot{\\theta}_{(1,3)}]])"
      ]
     },
     "execution_count": 8,
     "metadata": {},
     "output_type": "execute_result"
    }
   ],
   "source": [
    "active_joint_velocities = jac.active_joint_velocities_symbolic\n",
    "active_joint_velocities"
   ]
  },
  {
   "cell_type": "markdown",
   "id": "1af94039-0c88-4058-8d64-928e0f178c2e",
   "metadata": {},
   "source": [
    "### Robot's dimensional parameters"
   ]
  },
  {
   "cell_type": "markdown",
   "id": "56da4f18-8c8c-4ed1-8d8d-fa47d9d9b194",
   "metadata": {},
   "source": [
    "The robot's dimensional parameters can be viewed by running the below line."
   ]
  },
  {
   "cell_type": "code",
   "execution_count": 9,
   "id": "0eb76fc8-129d-405e-b698-184c22c50592",
   "metadata": {
    "tags": []
   },
   "outputs": [
    {
     "data": {
      "text/latex": [
       "$\\displaystyle \\left[\\begin{matrix}r_{(1,2)x}\\\\r_{(1,2)y}\\\\r_{(1,2)z}\\\\\\beta_{(1,2)}\\\\\\phi_{(1,2)}\\\\r_{(1,3)x}\\\\r_{(1,3)y}\\\\r_{(1,3)z}\\\\\\beta_{(1,3)}\\\\\\phi_{(1,3)}\\\\r_{(1,5)x}\\\\r_{(1,5)y}\\\\r_{(1,5)z}\\\\\\beta_{(1,5)}\\\\\\phi_{(1,5)}\\\\r_{(2,6)x}\\\\r_{(2,6)y}\\\\r_{(2,6)z}\\\\r_{(3,4)x}\\\\r_{(3,4)y}\\\\r_{(3,4)z}\\\\r_{(4,6)x}\\\\r_{(4,6)y}\\\\r_{(4,6)z}\\\\r_{(5,6)x}\\\\r_{(5,6)y}\\\\r_{(5,6)z}\\end{matrix}\\right]$"
      ],
      "text/plain": [
       "Matrix([\n",
       "[   r_{(1,2)x}],\n",
       "[   r_{(1,2)y}],\n",
       "[   r_{(1,2)z}],\n",
       "[\\beta_{(1,2)}],\n",
       "[ \\phi_{(1,2)}],\n",
       "[   r_{(1,3)x}],\n",
       "[   r_{(1,3)y}],\n",
       "[   r_{(1,3)z}],\n",
       "[\\beta_{(1,3)}],\n",
       "[ \\phi_{(1,3)}],\n",
       "[   r_{(1,5)x}],\n",
       "[   r_{(1,5)y}],\n",
       "[   r_{(1,5)z}],\n",
       "[\\beta_{(1,5)}],\n",
       "[ \\phi_{(1,5)}],\n",
       "[   r_{(2,6)x}],\n",
       "[   r_{(2,6)y}],\n",
       "[   r_{(2,6)z}],\n",
       "[   r_{(3,4)x}],\n",
       "[   r_{(3,4)y}],\n",
       "[   r_{(3,4)z}],\n",
       "[   r_{(4,6)x}],\n",
       "[   r_{(4,6)y}],\n",
       "[   r_{(4,6)z}],\n",
       "[   r_{(5,6)x}],\n",
       "[   r_{(5,6)y}],\n",
       "[   r_{(5,6)z}]])"
      ]
     },
     "execution_count": 9,
     "metadata": {},
     "output_type": "execute_result"
    }
   ],
   "source": [
    "robot_dimensional_parameters = jac.parameters_symbolic\n",
    "robot_dimensional_parameters"
   ]
  },
  {
   "cell_type": "markdown",
   "id": "bdbd77bb-1108-4a79-b5af-fd697440cb15",
   "metadata": {},
   "source": [
    "### Robot's end-effector parameters"
   ]
  },
  {
   "cell_type": "markdown",
   "id": "22d0af32-c073-41dc-922b-67de82442b35",
   "metadata": {},
   "source": [
    "The robot's end-effector parameters can be viewed by running the below line."
   ]
  },
  {
   "cell_type": "code",
   "execution_count": 10,
   "id": "a469d382-a2d2-4c05-abef-95f14023d735",
   "metadata": {
    "tags": []
   },
   "outputs": [
    {
     "data": {
      "text/latex": [
       "$\\displaystyle \\left[\\begin{matrix}a_{x}\\\\a_{y}\\\\a_{z}\\end{matrix}\\right]$"
      ],
      "text/plain": [
       "Matrix([\n",
       "[a_x],\n",
       "[a_y],\n",
       "[a_z]])"
      ]
     },
     "execution_count": 10,
     "metadata": {},
     "output_type": "execute_result"
    }
   ],
   "source": [
    "robot_endeffector_parameters = jac.endeffector_variables_symbolic\n",
    "robot_endeffector_parameters"
   ]
  },
  {
   "cell_type": "markdown",
   "id": "ddf7a7d8-15bf-490b-a815-194872016096",
   "metadata": {},
   "source": [
    "### Sample computation of Jacobian for the configuration corresponding to the parameters shown below:\n",
    "\n",
    "- End-effector point: $\\textbf{a}=\\hat{i}+2\\hat{j}+3\\hat{k}$\n",
    "- Locations of joints: $\\textbf{r}_{(1,2)}=2\\hat{i}+8\\hat{j}+3\\hat{k}$, $\\textbf{r}_{(1,3)}=1\\hat{i}+2\\hat{j}+5\\hat{k}$, $\\textbf{r}_{(1,5)}=2\\hat{i}+4\\hat{j}+7\\hat{k}$, $\\textbf{r}_{(2,6)}=3\\hat{i}+1\\hat{j}+2\\hat{k}$, $\\textbf{r}_{(3,4)}=6\\hat{i}+8\\hat{j}+4\\hat{k}$, $\\textbf{r}_{(4,6)}=8\\hat{i}+1\\hat{j}+3\\hat{k}$ and $\\textbf{r}_{(5,6)}=5\\hat{i}+7\\hat{j}+3\\hat{k}$\n",
    "- Orientations of joints: $\\beta_{(1,2)}=\\pi/6$, $\\phi_{(1,2)}=\\pi/3$, $\\beta_{(1,3)}=5\\pi/6$, $\\phi_{(1,3)}=2\\pi/3$, $\\beta_{(1,5)}=\\pi/12$ and $\\phi_{(1,5)}=\\pi/2$."
   ]
  },
  {
   "cell_type": "markdown",
   "id": "6f25cd6e-6885-4bac-a16f-c92f5dd6f6e8",
   "metadata": {},
   "source": [
    "For the given set of dimensional parameters of the robot, the numerical Jacobian can be computed as follows. Firstly, we need to gather the configuration parameters in Python list format, in a particular order. The robot dimensional parameters from `jac.parameters_symbolic` are found (as shown earlier) to be in the order of $r_{(1,2)x}$, $r_{(1,2)y}$, $r_{(1,2)z}$, $\\beta_{(1,2)}$, $\\phi_{(1,2)}$, $r_{(1,3)x}$, $r_{(1,3)y}$, $r_{(1,3)z}$, $\\beta_{(1,3)}$, $\\phi_{(1,3)}$, $r_{(1,5)x}$, $r_{(1,5)y}$, $r_{(1,5)z}$, $\\beta_{(1,5)}$, $\\phi_{(1,5)}$, $r_{(2,6)x}$, $r_{(2,6)y}$, $r_{(2,6)z}$, $r_{(3,4)x}$, $r_{(3,4)y}$, $r_{(3,4)z}$, $r_{(4,6)x}$, $r_{(4,6)y}$, $r_{(4,6)z}$, $r_{(5,6)x}$, $r_{(5,6)y}$ and $r_{(5,6)z}$. Hence the configuration parameters are to be supplied in the same order, as a list. Thus, the computation can be performed as shown below."
   ]
  },
  {
   "cell_type": "code",
   "execution_count": 11,
   "id": "30dc1674-280f-4889-bc34-a83a1a40191d",
   "metadata": {
    "tags": []
   },
   "outputs": [
    {
     "data": {
      "text/plain": [
       "array([[ 19.62196517,  10.77434097],\n",
       "       [-16.1460825 ,  -8.61947278],\n",
       "       [ 43.06469529,  30.16815472],\n",
       "       [  6.57574977,   4.30973639],\n",
       "       [ 19.33597911,  12.92920917],\n",
       "       [  5.34317907,   2.15486819]])"
      ]
     },
     "execution_count": 11,
     "metadata": {},
     "output_type": "execute_result"
    }
   ],
   "source": [
    "from numpy import pi\n",
    "\n",
    "end_effector_point = [1,2,3]\n",
    "configuration_parameters = [2, 8, 3, pi/6, pi/3, 1, 2, 5, 5*pi/6, 2*pi/3, 2, 4, 7, pi/12, pi/2, 3, 1, 2, 6, 8, 4, 8, 1, 3, 5, 7, 3]\n",
    "jacobian_at_the_given_configuration = jacobian_function(end_effector_point, configuration_parameters)\n",
    "jacobian_at_the_given_configuration"
   ]
  },
  {
   "cell_type": "markdown",
   "id": "0fc4b583-6156-416d-9eb9-24e12f7b3d6a",
   "metadata": {},
   "source": [
    "### Accessing each matrix individually:"
   ]
  },
  {
   "cell_type": "markdown",
   "id": "3b89626f-5e66-417b-8e4c-860f4fecd046",
   "metadata": {},
   "source": [
    "Each of $J_a$, $J_p$, $A_a$ and $A_p$ functions can be accessed as shown below"
   ]
  },
  {
   "cell_type": "code",
   "execution_count": 12,
   "id": "10a9914a-2994-49cb-8138-6aa5a47e4ff2",
   "metadata": {
    "tags": []
   },
   "outputs": [
    {
     "data": {
      "text/plain": [
       "array([[ 5.19615242,  0.        ],\n",
       "       [-0.8660254 ,  0.        ],\n",
       "       [-1.0669873 ,  0.        ],\n",
       "       [ 0.25      ,  0.        ],\n",
       "       [ 0.4330127 ,  0.        ],\n",
       "       [ 0.8660254 ,  0.        ]])"
      ]
     },
     "execution_count": 12,
     "metadata": {},
     "output_type": "execute_result"
    }
   ],
   "source": [
    "numerical_Ja = jac.Ja_func(end_effector_point, configuration_parameters)\n",
    "numerical_Ja"
   ]
  },
  {
   "cell_type": "code",
   "execution_count": 13,
   "id": "c81b0cb9-c334-49ae-a539-7651d62751a4",
   "metadata": {
    "tags": []
   },
   "outputs": [
    {
     "data": {
      "text/plain": [
       "array([[ 0,  0,  1, -1,  0,  0,  0,  0,  0,  0,  0,  0,  0],\n",
       "       [ 0, -1,  0, -2,  0,  0,  0,  0,  0,  0,  0,  0,  0],\n",
       "       [ 0,  1,  2,  0,  0,  0,  0,  0,  0,  0,  0,  0,  0],\n",
       "       [ 0,  1,  0,  0,  0,  0,  0,  0,  0,  0,  0,  0,  0],\n",
       "       [ 0,  0,  1,  0,  0,  0,  0,  0,  0,  0,  0,  0,  0],\n",
       "       [ 0,  0,  0,  1,  0,  0,  0,  0,  0,  0,  0,  0,  0]])"
      ]
     },
     "execution_count": 13,
     "metadata": {},
     "output_type": "execute_result"
    }
   ],
   "source": [
    "numerical_Jp = jac.Jp_func(end_effector_point, configuration_parameters)\n",
    "numerical_Jp"
   ]
  },
  {
   "cell_type": "code",
   "execution_count": 14,
   "id": "9d2f5e31-70fb-4773-9be3-163c0ee9b43b",
   "metadata": {
    "tags": []
   },
   "outputs": [
    {
     "data": {
      "text/plain": [
       "array([[-5.19615242,  0.        ],\n",
       "       [ 0.8660254 ,  0.        ],\n",
       "       [ 1.0669873 ,  0.        ],\n",
       "       [-5.19615242, -0.8660254 ],\n",
       "       [ 0.8660254 , -0.5       ],\n",
       "       [ 1.0669873 , -0.        ],\n",
       "       [-0.25      ,  0.        ],\n",
       "       [-0.4330127 ,  0.        ],\n",
       "       [-0.8660254 ,  0.        ],\n",
       "       [-0.25      , -0.25      ],\n",
       "       [-0.4330127 ,  0.4330127 ],\n",
       "       [-0.8660254 , -0.8660254 ],\n",
       "       [ 0.        ,  2.66506351]])"
      ]
     },
     "execution_count": 14,
     "metadata": {},
     "output_type": "execute_result"
    }
   ],
   "source": [
    "numerical_Aa = jac.Aa_func(end_effector_point, configuration_parameters)\n",
    "numerical_Aa"
   ]
  },
  {
   "cell_type": "code",
   "execution_count": 15,
   "id": "1ba654e8-76b7-4507-b9cd-3aed5ac5072d",
   "metadata": {
    "tags": []
   },
   "outputs": [
    {
     "data": {
      "text/plain": [
       "array([[ 1.,  0., -1.,  1.,  0.,  0.,  0.,  0.,  0.,  0.,  0.,  0.,  5.],\n",
       "       [-1.,  1.,  0.,  2.,  0.,  0.,  0.,  0.,  0.,  0.,  0.,  0., -4.],\n",
       "       [ 0., -1., -2.,  0.,  0.,  0.,  0.,  0.,  0.,  0., -5.,  4.,  0.],\n",
       "       [ 0.,  0., -1.,  1.,  0., -1.,  6.,  0.,  0., -1.,  0.,  0.,  0.],\n",
       "       [ 0.,  1.,  0.,  2.,  1.,  0., -5.,  0.,  0., -7.,  0.,  0.,  0.],\n",
       "       [ 0., -1., -2.,  0., -6.,  5.,  0.,  1.,  7.,  0.,  0.,  0.,  0.],\n",
       "       [ 0., -1.,  0.,  0.,  0.,  0.,  0.,  0.,  0.,  0.,  1.,  0.,  0.],\n",
       "       [ 0.,  0., -1.,  0.,  0.,  0.,  0.,  0.,  0.,  0.,  0.,  1.,  0.],\n",
       "       [ 1.,  0.,  0., -1.,  0.,  0.,  0.,  0.,  0.,  0.,  0.,  0.,  1.],\n",
       "       [ 0., -1.,  0.,  0.,  1.,  0.,  0.,  1.,  0.,  0.,  0.,  0.,  0.],\n",
       "       [ 0.,  0., -1.,  0.,  0.,  1.,  0.,  0.,  1.,  0.,  0.,  0.,  0.],\n",
       "       [ 0.,  0.,  0., -1.,  0.,  0.,  1.,  0.,  0.,  1.,  0.,  0.,  0.],\n",
       "       [ 0.,  0.,  0.,  0., -2.,  7.,  1.,  0.,  0.,  0.,  0.,  0.,  0.]])"
      ]
     },
     "execution_count": 15,
     "metadata": {},
     "output_type": "execute_result"
    }
   ],
   "source": [
    "numerical_Ap = jac.Ap_func(end_effector_point, configuration_parameters)\n",
    "numerical_Ap.round()"
   ]
  },
  {
   "cell_type": "markdown",
   "id": "2f492c24-7c6c-475d-9c29-530aa33936ce",
   "metadata": {
    "tags": []
   },
   "source": [
    "And the computation $J_a-J_pA^{-1}_pA_a$ is given by the code below, which gives the same output as `jacobian_at_the_given_configuration`."
   ]
  },
  {
   "cell_type": "code",
   "execution_count": 16,
   "id": "e744d1a8-c90e-4d1e-bc7d-a2039f463657",
   "metadata": {
    "tags": []
   },
   "outputs": [
    {
     "data": {
      "text/plain": [
       "array([[ 19.62196517,  10.77434097],\n",
       "       [-16.1460825 ,  -8.61947278],\n",
       "       [ 43.06469529,  30.16815472],\n",
       "       [  6.57574977,   4.30973639],\n",
       "       [ 19.33597911,  12.92920917],\n",
       "       [  5.34317907,   2.15486819]])"
      ]
     },
     "execution_count": 16,
     "metadata": {},
     "output_type": "execute_result"
    }
   ],
   "source": [
    "import numpy\n",
    "numerical_Ja-numpy.matmul(numpy.matmul(numerical_Jp,numpy.linalg.inv(numerical_Ap)),numerical_Aa)"
   ]
  },
  {
   "cell_type": "markdown",
   "id": "bc6b2bcc-3faf-4ea2-bd8f-0dc374a8aa7f",
   "metadata": {},
   "source": [
    "### Some other attributes"
   ]
  },
  {
   "cell_type": "markdown",
   "id": "38751999-8a5d-4c4a-9dcb-c1e84b1ab97a",
   "metadata": {},
   "source": [
    "To get the computed list of all connecting paths from the base link to the end-effector link, the below script can be used, which gives the list of all connecting paths (only link numbers are shown, indexed from 0)."
   ]
  },
  {
   "cell_type": "code",
   "execution_count": 17,
   "id": "16dd7d8f-1490-4373-9a8e-f654118af216",
   "metadata": {
    "tags": []
   },
   "outputs": [
    {
     "data": {
      "text/plain": [
       "[[0, 1, 5], [0, 4, 5], [0, 2, 3, 5]]"
      ]
     },
     "execution_count": 17,
     "metadata": {},
     "output_type": "execute_result"
    }
   ],
   "source": [
    "jac.P"
   ]
  },
  {
   "cell_type": "markdown",
   "id": "b8e4dd28-8441-45a6-bb51-3a43d33c11ad",
   "metadata": {},
   "source": [
    "Out of the above paths, the computed list of independent paths pertaining to linear velocities and angular velocities, can be accessed by the below scripts:"
   ]
  },
  {
   "cell_type": "markdown",
   "id": "7450b379-b757-48ff-aa50-69217c7c56a5",
   "metadata": {},
   "source": [
    "For independent paths pertaining to linear velocities:"
   ]
  },
  {
   "cell_type": "code",
   "execution_count": 18,
   "id": "a8d17753-a25f-4d37-8067-b1f32848a75a",
   "metadata": {
    "tags": []
   },
   "outputs": [
    {
     "data": {
      "text/plain": [
       "[[0, 1, 5], [0, 4, 5], [0, 2, 3, 5]]"
      ]
     },
     "execution_count": 18,
     "metadata": {},
     "output_type": "execute_result"
    }
   ],
   "source": [
    "jac.P_tilde"
   ]
  },
  {
   "cell_type": "markdown",
   "id": "f5ad7f1e-696b-4c12-bb84-0160ecad99cb",
   "metadata": {},
   "source": [
    "For independent paths pertaining to angular velocities:"
   ]
  },
  {
   "cell_type": "code",
   "execution_count": 19,
   "id": "9360a712-d075-4390-a3ca-620507a73c12",
   "metadata": {
    "tags": []
   },
   "outputs": [
    {
     "data": {
      "text/plain": [
       "[[0, 1, 5], [0, 4, 5], [0, 2, 3, 5]]"
      ]
     },
     "execution_count": 19,
     "metadata": {},
     "output_type": "execute_result"
    }
   ],
   "source": [
    "jac.P_tilde_omega"
   ]
  },
  {
   "cell_type": "markdown",
   "id": "51030899-dc7c-42a8-b7bb-2dbec15c8e50",
   "metadata": {},
   "source": [
    "The above scripts give the lists of all the independent connecting paths pertaining to linear and angular velocities (only link numbers are shown, indexed from 0)."
   ]
  },
  {
   "cell_type": "markdown",
   "id": "835e7551-9cd4-4c51-9496-cca38d0b5539",
   "metadata": {},
   "source": [
    "### Superfluous DOF information:"
   ]
  },
  {
   "cell_type": "markdown",
   "id": "6f233943-2d58-4882-ac28-4380b59e7207",
   "metadata": {},
   "source": [
    "This manipulator has a superfluous DOF. The information of all the superfluous DOFs in the manipulator can be retrieved in a list by the script shown below:"
   ]
  },
  {
   "cell_type": "code",
   "execution_count": 20,
   "id": "55d2d764-d901-4642-9860-8f85165a87f6",
   "metadata": {
    "tags": []
   },
   "outputs": [
    {
     "data": {
      "text/plain": [
       "1"
      ]
     },
     "execution_count": 20,
     "metadata": {},
     "output_type": "execute_result"
    }
   ],
   "source": [
    "superfluous_dof_information = jac.superfluous_dof_information\n",
    "len(superfluous_dof_information)"
   ]
  },
  {
   "cell_type": "markdown",
   "id": "be592ebe-1993-4574-8883-db0eb2cc293a",
   "metadata": {},
   "source": [
    "The above output shows that the number of superfluous DOF is 1. In order to access the information of this superfluous DOF, the script shown below can be used:"
   ]
  },
  {
   "cell_type": "code",
   "execution_count": 21,
   "id": "cc95fcdc-3722-4970-b557-025f900516de",
   "metadata": {
    "tags": []
   },
   "outputs": [
    {
     "data": {
      "text/plain": [
       "[(2, 3), (3, 5)]"
      ]
     },
     "execution_count": 21,
     "metadata": {},
     "output_type": "execute_result"
    }
   ],
   "source": [
    "c_be, [(i,j),(k,l)] = superfluous_dof_information[0]\n",
    "[(i,j),(k,l)]"
   ]
  },
  {
   "cell_type": "markdown",
   "id": "4e3fe472-5dc7-4c35-aeec-543901648c55",
   "metadata": {},
   "source": [
    "The above output shows that the superfluous DOF exists between the spherical joints joined by links 3,4 and 4,6 (since the link numbers are indexed from zero). And `c_be` represents the list of link numbers of the part that contains base and end-effector links (as explained here). The complement list of `c_be` can be computed as shown below."
   ]
  },
  {
   "cell_type": "code",
   "execution_count": 22,
   "id": "ee28d4ba-eb05-4d2c-bd02-07a545ddfcdf",
   "metadata": {
    "tags": []
   },
   "outputs": [
    {
     "data": {
      "text/plain": [
       "[3]"
      ]
     },
     "execution_count": 22,
     "metadata": {},
     "output_type": "execute_result"
    }
   ],
   "source": [
    "c_be_complement = [i for i in range(len(M)) if i not in c_be]\n",
    "c_be_complement"
   ]
  },
  {
   "cell_type": "markdown",
   "id": "472dd12e-0d5d-47df-bc42-c8835b402ded",
   "metadata": {},
   "source": [
    "This shows that it is the link 4 that exhibits a superfluous DOF, which is evident from the figure in the beginning of this document.\n",
    "\n",
    "Note: In the above results, the link numbers are indexed from 0 (not 1)."
   ]
  },
  {
   "cell_type": "markdown",
   "id": "cd35c146-5aad-45f6-9829-158b624fae60",
   "metadata": {},
   "source": [
    "# Mathematical derivation of Jacobian"
   ]
  },
  {
   "cell_type": "markdown",
   "id": "554ec23e-abc2-47d0-9399-79402c0dd1f7",
   "metadata": {},
   "source": [
    "The mathematical derivation is shown [here](../../maths/RSSR-SSR_serial-parallel_hybrid_robot.md)."
   ]
  }
 ],
 "metadata": {
  "kernelspec": {
   "display_name": "Python 3 (ipykernel)",
   "language": "python",
   "name": "python3"
  },
  "language_info": {
   "codemirror_mode": {
    "name": "ipython",
    "version": 3
   },
   "file_extension": ".py",
   "mimetype": "text/x-python",
   "name": "python",
   "nbconvert_exporter": "python",
   "pygments_lexer": "ipython3",
   "version": "3.11.5"
  }
 },
 "nbformat": 4,
 "nbformat_minor": 5
}
