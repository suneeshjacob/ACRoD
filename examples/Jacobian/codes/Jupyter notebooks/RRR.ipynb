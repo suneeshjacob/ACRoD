{
 "cells": [
  {
   "cell_type": "markdown",
   "id": "178e8641-4a34-4c7c-81c8-532759088ab9",
   "metadata": {
    "tags": []
   },
   "source": [
    "# Formulation of Jacobian for 3R planar serial manipulator as an example"
   ]
  },
  {
   "cell_type": "markdown",
   "id": "5c9d3f8b-6819-417b-8d61-a0136330b8d9",
   "metadata": {},
   "source": [
    "## Figure"
   ]
  },
  {
   "cell_type": "markdown",
   "id": "21d4502f-e08c-4b58-bcf6-697aa0b70202",
   "metadata": {
    "tags": []
   },
   "source": [
    "![3R planar serial manipulator](../../images/RRR.png \"3R planar serial manipulator\")"
   ]
  },
  {
   "cell_type": "markdown",
   "id": "5f65b294-cfc0-4cb0-95f4-a81236f2b02a",
   "metadata": {},
   "source": [
    "## Jacobian"
   ]
  },
  {
   "cell_type": "markdown",
   "id": "c2eccd03-d5a0-473b-afc4-5e85156391fc",
   "metadata": {},
   "source": [
    "The topological information of a robot is to be specified by using its robot-topology matrix, as defined [here](../../../../misc/Robot_Topology_Matrix.md). For RRR planar serial manipulator shown above, the robot topology matrix is given by"
   ]
  },
  {
   "cell_type": "markdown",
   "id": "ae66ec7f-d0f7-4138-bc84-8571a2204a53",
   "metadata": {},
   "source": [
    "$$\\left[\\begin{matrix}9 & 1 & 0 & 0 \\\\\\\\ 1 & 9 & 1 & 0 \\\\\\\\ 0 & 1 & 9 & 1 \\\\\\\\ 0 & 0 & 1 & 9\\end{matrix}\\right]$$"
   ]
  },
  {
   "cell_type": "markdown",
   "id": "1cc8d43e-9b8a-474e-b851-ced1676db736",
   "metadata": {},
   "source": [
    "### Importing required modules"
   ]
  },
  {
   "cell_type": "markdown",
   "id": "2434f958-ddb6-4bdb-9fbd-1c56158b6b7a",
   "metadata": {
    "tags": []
   },
   "source": [
    "The corresponding Jacobian function can be formulated as follows."
   ]
  },
  {
   "cell_type": "code",
   "execution_count": 1,
   "id": "08909c2f-e962-47f9-a8e7-0a7c59171d45",
   "metadata": {
    "tags": []
   },
   "outputs": [],
   "source": [
    "from acrod.jacobian import Jacobian\n",
    "from numpy import array"
   ]
  },
  {
   "cell_type": "markdown",
   "id": "f70765bb-6f03-4ed6-acfe-284d694db8c2",
   "metadata": {},
   "source": [
    "### Specifying Robot-Topology matrix and initialising jacobian class"
   ]
  },
  {
   "cell_type": "markdown",
   "id": "bccb8d9c-b6b1-492d-8234-1b4036433fbb",
   "metadata": {},
   "source": [
    "The robot-topology matrix for 3R planar serial manipulator is defined and jacobian information is processed via the imported jacobian class as follows."
   ]
  },
  {
   "cell_type": "code",
   "execution_count": 2,
   "id": "574ce738-aa6a-444b-b331-4cd4414acace",
   "metadata": {
    "tags": []
   },
   "outputs": [],
   "source": [
    "M = array(\n",
    "    [[9, 1, 0, 0],\n",
    "     [1, 9, 1, 0],\n",
    "     [0, 1, 9, 1],\n",
    "     [0, 0, 1, 9]]\n",
    ")\n",
    "jac = Jacobian(M, robot_type='planar')"
   ]
  },
  {
   "cell_type": "markdown",
   "id": "97b74dfb-d6f9-4688-918c-dc7bfd0923ba",
   "metadata": {},
   "source": [
    "### Generation of Jacobian function"
   ]
  },
  {
   "cell_type": "markdown",
   "id": "7576e28d-41ed-4896-8565-8a4e2f117d72",
   "metadata": {
    "tags": []
   },
   "source": [
    "Jacobian function is generated as shown below."
   ]
  },
  {
   "cell_type": "code",
   "execution_count": 3,
   "id": "7a6c5bcf-373d-4816-9bbb-aa184afd1caa",
   "metadata": {
    "tags": []
   },
   "outputs": [],
   "source": [
    "jacobian_function = jac.get_jacobian_function()"
   ]
  },
  {
   "cell_type": "markdown",
   "id": "39935544-fffc-4655-a081-c7df8502db0f",
   "metadata": {},
   "source": [
    "### Various attributes of the jacobian object"
   ]
  },
  {
   "cell_type": "markdown",
   "id": "a88ed41c-0741-48c9-80d4-4e210ea7ac3e",
   "metadata": {},
   "source": [
    "In the process of generating the above jacobian function, other attributes of the jacobian object also are updated. Symbolic Jacobian matrices can be extracted from the attributes. Since this is a serial robot, the matrix $J_a$ itself would be the Jacobian matrix of the manipulator. The matrix $J_a$ is extracted from `Ja` attribute of the jacobian object as follows."
   ]
  },
  {
   "cell_type": "code",
   "execution_count": 4,
   "id": "1d18978c-3a4e-4bef-bb1a-32f21d1fc908",
   "metadata": {
    "tags": []
   },
   "outputs": [
    {
     "data": {
      "text/latex": [
       "$\\displaystyle \\left[\\begin{matrix}- a_{y} + r_{(1,2)y} & - a_{y} + r_{(2,3)y} & - a_{y} + r_{(3,4)y}\\\\a_{x} - r_{(1,2)x} & a_{x} - r_{(2,3)x} & a_{x} - r_{(3,4)x}\\\\1 & 1 & 1\\end{matrix}\\right]$"
      ],
      "text/plain": [
       "Matrix([\n",
       "[-a_y + r_{(1,2)y}, -a_y + r_{(2,3)y}, -a_y + r_{(3,4)y}],\n",
       "[ a_x - r_{(1,2)x},  a_x - r_{(2,3)x},  a_x - r_{(3,4)x}],\n",
       "[                1,                 1,                 1]])"
      ]
     },
     "execution_count": 4,
     "metadata": {},
     "output_type": "execute_result"
    }
   ],
   "source": [
    "symbolic_Ja = jac.Ja\n",
    "symbolic_Ja"
   ]
  },
  {
   "cell_type": "markdown",
   "id": "833c496e-b4a2-419f-8ec9-b0b7e51fb2e4",
   "metadata": {},
   "source": [
    "The above Jacobian is based on the notations defined and described [here](../../../../misc/Notation_and_Nomenclature.md)."
   ]
  },
  {
   "cell_type": "markdown",
   "id": "4d5e2784-d2a3-436c-a6a6-b75f6d9aed5a",
   "metadata": {},
   "source": [
    "### Active joint velocities"
   ]
  },
  {
   "cell_type": "markdown",
   "id": "440411bf-ab48-40b1-bc2b-1164fa7d3ec6",
   "metadata": {},
   "source": [
    "Active joint velocities, in the corresponding order, can be viewed by running the following lines."
   ]
  },
  {
   "cell_type": "code",
   "execution_count": 5,
   "id": "fc08ee43-f813-47a5-93a5-507cf14eb2ac",
   "metadata": {
    "tags": []
   },
   "outputs": [
    {
     "data": {
      "text/latex": [
       "$\\displaystyle \\left[\\begin{matrix}\\dot{\\theta}_{(1,2)}\\\\\\dot{\\theta}_{(2,3)}\\\\\\dot{\\theta}_{(3,4)}\\end{matrix}\\right]$"
      ],
      "text/plain": [
       "Matrix([\n",
       "[\\dot{\\theta}_{(1,2)}],\n",
       "[\\dot{\\theta}_{(2,3)}],\n",
       "[\\dot{\\theta}_{(3,4)}]])"
      ]
     },
     "execution_count": 5,
     "metadata": {},
     "output_type": "execute_result"
    }
   ],
   "source": [
    "active_joint_velocities = jac.active_joint_velocities_symbolic\n",
    "active_joint_velocities"
   ]
  },
  {
   "cell_type": "markdown",
   "id": "1af94039-0c88-4058-8d64-928e0f178c2e",
   "metadata": {},
   "source": [
    "### Robot's dimensional parameters"
   ]
  },
  {
   "cell_type": "markdown",
   "id": "56da4f18-8c8c-4ed1-8d8d-fa47d9d9b194",
   "metadata": {},
   "source": [
    "The robot's dimensional parameters can be viewed by running the below line."
   ]
  },
  {
   "cell_type": "code",
   "execution_count": 6,
   "id": "0eb76fc8-129d-405e-b698-184c22c50592",
   "metadata": {
    "tags": []
   },
   "outputs": [
    {
     "data": {
      "text/latex": [
       "$\\displaystyle \\left[\\begin{matrix}r_{(1,2)x}\\\\r_{(1,2)y}\\\\r_{(2,3)x}\\\\r_{(2,3)y}\\\\r_{(3,4)x}\\\\r_{(3,4)y}\\end{matrix}\\right]$"
      ],
      "text/plain": [
       "Matrix([\n",
       "[r_{(1,2)x}],\n",
       "[r_{(1,2)y}],\n",
       "[r_{(2,3)x}],\n",
       "[r_{(2,3)y}],\n",
       "[r_{(3,4)x}],\n",
       "[r_{(3,4)y}]])"
      ]
     },
     "execution_count": 6,
     "metadata": {},
     "output_type": "execute_result"
    }
   ],
   "source": [
    "robot_dimensional_parameters = jac.parameters_symbolic\n",
    "robot_dimensional_parameters"
   ]
  },
  {
   "cell_type": "markdown",
   "id": "bdbd77bb-1108-4a79-b5af-fd697440cb15",
   "metadata": {},
   "source": [
    "### Robot's end-effector parameters"
   ]
  },
  {
   "cell_type": "markdown",
   "id": "22d0af32-c073-41dc-922b-67de82442b35",
   "metadata": {},
   "source": [
    "The robot's end-effector parameters can be viewed by running the below line."
   ]
  },
  {
   "cell_type": "code",
   "execution_count": 7,
   "id": "a469d382-a2d2-4c05-abef-95f14023d735",
   "metadata": {
    "tags": []
   },
   "outputs": [
    {
     "data": {
      "text/latex": [
       "$\\displaystyle \\left[\\begin{matrix}a_{x}\\\\a_{y}\\end{matrix}\\right]$"
      ],
      "text/plain": [
       "Matrix([\n",
       "[a_x],\n",
       "[a_y]])"
      ]
     },
     "execution_count": 7,
     "metadata": {},
     "output_type": "execute_result"
    }
   ],
   "source": [
    "robot_endeffector_parameters = jac.endeffector_variables_symbolic\n",
    "robot_endeffector_parameters"
   ]
  },
  {
   "cell_type": "markdown",
   "id": "ddf7a7d8-15bf-490b-a815-194872016096",
   "metadata": {},
   "source": [
    "### Sample computation of Jacobian for the configuration corresponding to the parameters shown below:\n",
    "\n",
    "- End-effector point: $\\textbf{a}=\\hat{i}+2\\hat{j}$\n",
    "- Locations of joints: $\\textbf{r}\\_{(1,2)}=3\\hat{i}+4\\hat{j}$, $\\textbf{r}\\_{(2,3)}=2\\hat{i}+1\\hat{j}$ and $\\textbf{r}\\_{(3,4)}=4\\hat{i}+2\\hat{j}$"
   ]
  },
  {
   "cell_type": "markdown",
   "id": "6f25cd6e-6885-4bac-a16f-c92f5dd6f6e8",
   "metadata": {},
   "source": [
    "For the given set of dimensional parameters of the robot, the numerical Jacobian can be computed as follows. Firstly, we need to gather the configuration parameters in Python list format, in a particular order. The robot dimensional parameters from `jac.parameters_symbolic` are found (as shown earlier) to be in the order of $r_{(1,2)x}$, $r_{(1,2)y}$, $r_{(2,3)x}$, $r_{(2,3)y}$, $r_{(3,4)x}$ and $r_{(3,4)y}$. Hence the configuration parameters are to be supplied in the same order, as a list. Thus, the computation can be performed as shown below."
   ]
  },
  {
   "cell_type": "code",
   "execution_count": 8,
   "id": "30dc1674-280f-4889-bc34-a83a1a40191d",
   "metadata": {
    "tags": []
   },
   "outputs": [
    {
     "data": {
      "text/plain": [
       "array([[ 2, -1,  0],\n",
       "       [-2, -1, -3],\n",
       "       [ 1,  1,  1]])"
      ]
     },
     "execution_count": 8,
     "metadata": {},
     "output_type": "execute_result"
    }
   ],
   "source": [
    "end_effector_point = [1,2]\n",
    "configuration_parameters = [3, 4, 2, 1, 4, 2]\n",
    "jacobian_at_the_given_configuration = jacobian_function(end_effector_point, configuration_parameters)\n",
    "jacobian_at_the_given_configuration"
   ]
  },
  {
   "cell_type": "markdown",
   "id": "cd35c146-5aad-45f6-9829-158b624fae60",
   "metadata": {},
   "source": [
    "# Mathematical derivation of Jacobian"
   ]
  },
  {
   "cell_type": "markdown",
   "id": "554ec23e-abc2-47d0-9399-79402c0dd1f7",
   "metadata": {},
   "source": [
    "The mathematical derivation is shown [here](../../maths/3R_serial_robot.md)."
   ]
  }
 ],
 "metadata": {
  "kernelspec": {
   "display_name": "Python 3 (ipykernel)",
   "language": "python",
   "name": "python3"
  },
  "language_info": {
   "codemirror_mode": {
    "name": "ipython",
    "version": 3
   },
   "file_extension": ".py",
   "mimetype": "text/x-python",
   "name": "python",
   "nbconvert_exporter": "python",
   "pygments_lexer": "ipython3",
   "version": "3.11.5"
  }
 },
 "nbformat": 4,
 "nbformat_minor": 5
}
